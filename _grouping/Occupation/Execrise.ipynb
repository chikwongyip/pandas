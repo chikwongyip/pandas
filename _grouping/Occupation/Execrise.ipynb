{
 "cells": [
  {
   "cell_type": "code",
   "execution_count": 1,
   "id": "initial_id",
   "metadata": {
    "collapsed": true,
    "ExecuteTime": {
     "end_time": "2024-06-12T22:46:42.476041Z",
     "start_time": "2024-06-12T22:46:42.247115Z"
    }
   },
   "outputs": [],
   "source": [
    "import pandas as pd"
   ]
  },
  {
   "cell_type": "code",
   "execution_count": 3,
   "outputs": [
    {
     "data": {
      "text/plain": "     user_id  age gender     occupation zip_code\n0          1   24      M     technician    85711\n1          2   53      F          other    94043\n2          3   23      M         writer    32067\n3          4   24      M     technician    43537\n4          5   33      F          other    15213\n..       ...  ...    ...            ...      ...\n938      939   26      F        student    33319\n939      940   32      M  administrator    02215\n940      941   20      M        student    97229\n941      942   48      F      librarian    78209\n942      943   22      M        student    77841\n\n[943 rows x 5 columns]",
      "text/html": "<div>\n<style scoped>\n    .dataframe tbody tr th:only-of-type {\n        vertical-align: middle;\n    }\n\n    .dataframe tbody tr th {\n        vertical-align: top;\n    }\n\n    .dataframe thead th {\n        text-align: right;\n    }\n</style>\n<table border=\"1\" class=\"dataframe\">\n  <thead>\n    <tr style=\"text-align: right;\">\n      <th></th>\n      <th>user_id</th>\n      <th>age</th>\n      <th>gender</th>\n      <th>occupation</th>\n      <th>zip_code</th>\n    </tr>\n  </thead>\n  <tbody>\n    <tr>\n      <th>0</th>\n      <td>1</td>\n      <td>24</td>\n      <td>M</td>\n      <td>technician</td>\n      <td>85711</td>\n    </tr>\n    <tr>\n      <th>1</th>\n      <td>2</td>\n      <td>53</td>\n      <td>F</td>\n      <td>other</td>\n      <td>94043</td>\n    </tr>\n    <tr>\n      <th>2</th>\n      <td>3</td>\n      <td>23</td>\n      <td>M</td>\n      <td>writer</td>\n      <td>32067</td>\n    </tr>\n    <tr>\n      <th>3</th>\n      <td>4</td>\n      <td>24</td>\n      <td>M</td>\n      <td>technician</td>\n      <td>43537</td>\n    </tr>\n    <tr>\n      <th>4</th>\n      <td>5</td>\n      <td>33</td>\n      <td>F</td>\n      <td>other</td>\n      <td>15213</td>\n    </tr>\n    <tr>\n      <th>...</th>\n      <td>...</td>\n      <td>...</td>\n      <td>...</td>\n      <td>...</td>\n      <td>...</td>\n    </tr>\n    <tr>\n      <th>938</th>\n      <td>939</td>\n      <td>26</td>\n      <td>F</td>\n      <td>student</td>\n      <td>33319</td>\n    </tr>\n    <tr>\n      <th>939</th>\n      <td>940</td>\n      <td>32</td>\n      <td>M</td>\n      <td>administrator</td>\n      <td>02215</td>\n    </tr>\n    <tr>\n      <th>940</th>\n      <td>941</td>\n      <td>20</td>\n      <td>M</td>\n      <td>student</td>\n      <td>97229</td>\n    </tr>\n    <tr>\n      <th>941</th>\n      <td>942</td>\n      <td>48</td>\n      <td>F</td>\n      <td>librarian</td>\n      <td>78209</td>\n    </tr>\n    <tr>\n      <th>942</th>\n      <td>943</td>\n      <td>22</td>\n      <td>M</td>\n      <td>student</td>\n      <td>77841</td>\n    </tr>\n  </tbody>\n</table>\n<p>943 rows × 5 columns</p>\n</div>"
     },
     "execution_count": 3,
     "metadata": {},
     "output_type": "execute_result"
    }
   ],
   "source": [
    "pd.read_csv('https://raw.githubusercontent.com/justmarkham/DAT8/master/data/u.user',sep='|')"
   ],
   "metadata": {
    "collapsed": false,
    "ExecuteTime": {
     "end_time": "2024-06-12T22:47:41.441580Z",
     "start_time": "2024-06-12T22:47:40.523306Z"
    }
   },
   "id": "c20f1fad10ae1cb2"
  },
  {
   "cell_type": "code",
   "execution_count": 4,
   "outputs": [],
   "source": [
    "users = pd.read_csv('https://raw.githubusercontent.com/justmarkham/DAT8/master/data/u.user',sep='|')"
   ],
   "metadata": {
    "collapsed": false,
    "ExecuteTime": {
     "end_time": "2024-06-12T22:47:56.068291Z",
     "start_time": "2024-06-12T22:47:55.306667Z"
    }
   },
   "id": "e0bd2971f9f61bf3"
  },
  {
   "cell_type": "code",
   "execution_count": 5,
   "outputs": [
    {
     "data": {
      "text/plain": "   user_id  age gender  occupation zip_code\n0        1   24      M  technician    85711\n1        2   53      F       other    94043\n2        3   23      M      writer    32067\n3        4   24      M  technician    43537\n4        5   33      F       other    15213",
      "text/html": "<div>\n<style scoped>\n    .dataframe tbody tr th:only-of-type {\n        vertical-align: middle;\n    }\n\n    .dataframe tbody tr th {\n        vertical-align: top;\n    }\n\n    .dataframe thead th {\n        text-align: right;\n    }\n</style>\n<table border=\"1\" class=\"dataframe\">\n  <thead>\n    <tr style=\"text-align: right;\">\n      <th></th>\n      <th>user_id</th>\n      <th>age</th>\n      <th>gender</th>\n      <th>occupation</th>\n      <th>zip_code</th>\n    </tr>\n  </thead>\n  <tbody>\n    <tr>\n      <th>0</th>\n      <td>1</td>\n      <td>24</td>\n      <td>M</td>\n      <td>technician</td>\n      <td>85711</td>\n    </tr>\n    <tr>\n      <th>1</th>\n      <td>2</td>\n      <td>53</td>\n      <td>F</td>\n      <td>other</td>\n      <td>94043</td>\n    </tr>\n    <tr>\n      <th>2</th>\n      <td>3</td>\n      <td>23</td>\n      <td>M</td>\n      <td>writer</td>\n      <td>32067</td>\n    </tr>\n    <tr>\n      <th>3</th>\n      <td>4</td>\n      <td>24</td>\n      <td>M</td>\n      <td>technician</td>\n      <td>43537</td>\n    </tr>\n    <tr>\n      <th>4</th>\n      <td>5</td>\n      <td>33</td>\n      <td>F</td>\n      <td>other</td>\n      <td>15213</td>\n    </tr>\n  </tbody>\n</table>\n</div>"
     },
     "execution_count": 5,
     "metadata": {},
     "output_type": "execute_result"
    }
   ],
   "source": [
    "users.head()"
   ],
   "metadata": {
    "collapsed": false,
    "ExecuteTime": {
     "end_time": "2024-06-12T22:47:58.066028Z",
     "start_time": "2024-06-12T22:47:58.035913Z"
    }
   },
   "id": "1388a52a706925c2"
  },
  {
   "cell_type": "code",
   "execution_count": 10,
   "outputs": [
    {
     "data": {
      "text/plain": "               count       mean        std   min    25%   50%    75%   max\noccupation                                                                \nadministrator   79.0  38.746835  11.123397  21.0  30.00  37.0  48.00  70.0\nartist          28.0  31.392857   8.668116  19.0  25.00  30.0  39.00  48.0\ndoctor           7.0  43.571429  12.501428  28.0  35.50  45.0  48.50  64.0\neducator        95.0  42.010526  10.413264  23.0  33.00  42.0  50.00  63.0\nengineer        67.0  36.388060  11.199236  22.0  28.00  36.0  43.00  70.0\nentertainment   18.0  29.222222  10.056052  15.0  23.00  25.0  33.00  50.0\nexecutive       32.0  38.718750  10.608075  22.0  31.00  38.5  46.00  69.0\nhealthcare      16.0  41.562500  11.313524  22.0  30.50  44.5  49.25  62.0\nhomemaker        7.0  32.571429  10.737119  20.0  24.50  32.0  38.50  50.0\nlawyer          12.0  36.750000  10.830303  21.0  28.75  34.0  47.75  53.0\nlibrarian       51.0  40.000000  11.023611  23.0  30.00  39.0  49.00  69.0\nmarketing       26.0  37.615385   9.474500  24.0  30.25  36.0  42.50  55.0\nnone             9.0  26.555556  13.757826  11.0  16.00  26.0  33.00  55.0\nother          105.0  34.523810  10.738227  13.0  26.00  32.0  44.00  64.0\nprogrammer      66.0  33.121212   9.624512  20.0  27.00  30.0  38.00  63.0\nretired         14.0  63.071429   5.757461  51.0  60.00  63.0  67.25  73.0\nsalesman        12.0  35.666667  14.079859  18.0  28.25  34.0  38.25  66.0\nscientist       31.0  35.548387   7.392964  23.0  30.00  37.0  40.00  55.0\nstudent        196.0  22.081633   5.284081   7.0  19.00  21.0  25.00  42.0\ntechnician      27.0  33.148148   9.867210  21.0  24.00  30.0  40.00  55.0\nwriter          45.0  36.311111  11.423306  18.0  26.00  36.0  48.00  60.0",
      "text/html": "<div>\n<style scoped>\n    .dataframe tbody tr th:only-of-type {\n        vertical-align: middle;\n    }\n\n    .dataframe tbody tr th {\n        vertical-align: top;\n    }\n\n    .dataframe thead th {\n        text-align: right;\n    }\n</style>\n<table border=\"1\" class=\"dataframe\">\n  <thead>\n    <tr style=\"text-align: right;\">\n      <th></th>\n      <th>count</th>\n      <th>mean</th>\n      <th>std</th>\n      <th>min</th>\n      <th>25%</th>\n      <th>50%</th>\n      <th>75%</th>\n      <th>max</th>\n    </tr>\n    <tr>\n      <th>occupation</th>\n      <th></th>\n      <th></th>\n      <th></th>\n      <th></th>\n      <th></th>\n      <th></th>\n      <th></th>\n      <th></th>\n    </tr>\n  </thead>\n  <tbody>\n    <tr>\n      <th>administrator</th>\n      <td>79.0</td>\n      <td>38.746835</td>\n      <td>11.123397</td>\n      <td>21.0</td>\n      <td>30.00</td>\n      <td>37.0</td>\n      <td>48.00</td>\n      <td>70.0</td>\n    </tr>\n    <tr>\n      <th>artist</th>\n      <td>28.0</td>\n      <td>31.392857</td>\n      <td>8.668116</td>\n      <td>19.0</td>\n      <td>25.00</td>\n      <td>30.0</td>\n      <td>39.00</td>\n      <td>48.0</td>\n    </tr>\n    <tr>\n      <th>doctor</th>\n      <td>7.0</td>\n      <td>43.571429</td>\n      <td>12.501428</td>\n      <td>28.0</td>\n      <td>35.50</td>\n      <td>45.0</td>\n      <td>48.50</td>\n      <td>64.0</td>\n    </tr>\n    <tr>\n      <th>educator</th>\n      <td>95.0</td>\n      <td>42.010526</td>\n      <td>10.413264</td>\n      <td>23.0</td>\n      <td>33.00</td>\n      <td>42.0</td>\n      <td>50.00</td>\n      <td>63.0</td>\n    </tr>\n    <tr>\n      <th>engineer</th>\n      <td>67.0</td>\n      <td>36.388060</td>\n      <td>11.199236</td>\n      <td>22.0</td>\n      <td>28.00</td>\n      <td>36.0</td>\n      <td>43.00</td>\n      <td>70.0</td>\n    </tr>\n    <tr>\n      <th>entertainment</th>\n      <td>18.0</td>\n      <td>29.222222</td>\n      <td>10.056052</td>\n      <td>15.0</td>\n      <td>23.00</td>\n      <td>25.0</td>\n      <td>33.00</td>\n      <td>50.0</td>\n    </tr>\n    <tr>\n      <th>executive</th>\n      <td>32.0</td>\n      <td>38.718750</td>\n      <td>10.608075</td>\n      <td>22.0</td>\n      <td>31.00</td>\n      <td>38.5</td>\n      <td>46.00</td>\n      <td>69.0</td>\n    </tr>\n    <tr>\n      <th>healthcare</th>\n      <td>16.0</td>\n      <td>41.562500</td>\n      <td>11.313524</td>\n      <td>22.0</td>\n      <td>30.50</td>\n      <td>44.5</td>\n      <td>49.25</td>\n      <td>62.0</td>\n    </tr>\n    <tr>\n      <th>homemaker</th>\n      <td>7.0</td>\n      <td>32.571429</td>\n      <td>10.737119</td>\n      <td>20.0</td>\n      <td>24.50</td>\n      <td>32.0</td>\n      <td>38.50</td>\n      <td>50.0</td>\n    </tr>\n    <tr>\n      <th>lawyer</th>\n      <td>12.0</td>\n      <td>36.750000</td>\n      <td>10.830303</td>\n      <td>21.0</td>\n      <td>28.75</td>\n      <td>34.0</td>\n      <td>47.75</td>\n      <td>53.0</td>\n    </tr>\n    <tr>\n      <th>librarian</th>\n      <td>51.0</td>\n      <td>40.000000</td>\n      <td>11.023611</td>\n      <td>23.0</td>\n      <td>30.00</td>\n      <td>39.0</td>\n      <td>49.00</td>\n      <td>69.0</td>\n    </tr>\n    <tr>\n      <th>marketing</th>\n      <td>26.0</td>\n      <td>37.615385</td>\n      <td>9.474500</td>\n      <td>24.0</td>\n      <td>30.25</td>\n      <td>36.0</td>\n      <td>42.50</td>\n      <td>55.0</td>\n    </tr>\n    <tr>\n      <th>none</th>\n      <td>9.0</td>\n      <td>26.555556</td>\n      <td>13.757826</td>\n      <td>11.0</td>\n      <td>16.00</td>\n      <td>26.0</td>\n      <td>33.00</td>\n      <td>55.0</td>\n    </tr>\n    <tr>\n      <th>other</th>\n      <td>105.0</td>\n      <td>34.523810</td>\n      <td>10.738227</td>\n      <td>13.0</td>\n      <td>26.00</td>\n      <td>32.0</td>\n      <td>44.00</td>\n      <td>64.0</td>\n    </tr>\n    <tr>\n      <th>programmer</th>\n      <td>66.0</td>\n      <td>33.121212</td>\n      <td>9.624512</td>\n      <td>20.0</td>\n      <td>27.00</td>\n      <td>30.0</td>\n      <td>38.00</td>\n      <td>63.0</td>\n    </tr>\n    <tr>\n      <th>retired</th>\n      <td>14.0</td>\n      <td>63.071429</td>\n      <td>5.757461</td>\n      <td>51.0</td>\n      <td>60.00</td>\n      <td>63.0</td>\n      <td>67.25</td>\n      <td>73.0</td>\n    </tr>\n    <tr>\n      <th>salesman</th>\n      <td>12.0</td>\n      <td>35.666667</td>\n      <td>14.079859</td>\n      <td>18.0</td>\n      <td>28.25</td>\n      <td>34.0</td>\n      <td>38.25</td>\n      <td>66.0</td>\n    </tr>\n    <tr>\n      <th>scientist</th>\n      <td>31.0</td>\n      <td>35.548387</td>\n      <td>7.392964</td>\n      <td>23.0</td>\n      <td>30.00</td>\n      <td>37.0</td>\n      <td>40.00</td>\n      <td>55.0</td>\n    </tr>\n    <tr>\n      <th>student</th>\n      <td>196.0</td>\n      <td>22.081633</td>\n      <td>5.284081</td>\n      <td>7.0</td>\n      <td>19.00</td>\n      <td>21.0</td>\n      <td>25.00</td>\n      <td>42.0</td>\n    </tr>\n    <tr>\n      <th>technician</th>\n      <td>27.0</td>\n      <td>33.148148</td>\n      <td>9.867210</td>\n      <td>21.0</td>\n      <td>24.00</td>\n      <td>30.0</td>\n      <td>40.00</td>\n      <td>55.0</td>\n    </tr>\n    <tr>\n      <th>writer</th>\n      <td>45.0</td>\n      <td>36.311111</td>\n      <td>11.423306</td>\n      <td>18.0</td>\n      <td>26.00</td>\n      <td>36.0</td>\n      <td>48.00</td>\n      <td>60.0</td>\n    </tr>\n  </tbody>\n</table>\n</div>"
     },
     "execution_count": 10,
     "metadata": {},
     "output_type": "execute_result"
    }
   ],
   "source": [
    "users.groupby('occupation').age.describe()"
   ],
   "metadata": {
    "collapsed": false,
    "ExecuteTime": {
     "end_time": "2024-06-12T22:50:53.053765Z",
     "start_time": "2024-06-12T22:50:53.010568Z"
    }
   },
   "id": "ea75a6666483bc6c"
  },
  {
   "cell_type": "code",
   "execution_count": 12,
   "outputs": [
    {
     "data": {
      "text/plain": "                      user_id  age  zip_code\ngender occupation                           \nF      administrator       36   36        36\n       artist              13   13        13\n       educator            26   26        26\n       engineer             2    2         2\n       entertainment        2    2         2\n       executive            3    3         3\n       healthcare          11   11        11\n       homemaker            6    6         6\n       lawyer               2    2         2\n       librarian           29   29        29\n       marketing           10   10        10\n       none                 4    4         4\n       other               36   36        36\n       programmer           6    6         6\n       retired              1    1         1\n       salesman             3    3         3\n       scientist            3    3         3\n       student             60   60        60\n       technician           1    1         1\n       writer              19   19        19\nM      administrator       43   43        43\n       artist              15   15        15\n       doctor               7    7         7\n       educator            69   69        69\n       engineer            65   65        65\n       entertainment       16   16        16\n       executive           29   29        29\n       healthcare           5    5         5\n       homemaker            1    1         1\n       lawyer              10   10        10\n       librarian           22   22        22\n       marketing           16   16        16\n       none                 5    5         5\n       other               69   69        69\n       programmer          60   60        60\n       retired             13   13        13\n       salesman             9    9         9\n       scientist           28   28        28\n       student            136  136       136\n       technician          26   26        26\n       writer              26   26        26",
      "text/html": "<div>\n<style scoped>\n    .dataframe tbody tr th:only-of-type {\n        vertical-align: middle;\n    }\n\n    .dataframe tbody tr th {\n        vertical-align: top;\n    }\n\n    .dataframe thead th {\n        text-align: right;\n    }\n</style>\n<table border=\"1\" class=\"dataframe\">\n  <thead>\n    <tr style=\"text-align: right;\">\n      <th></th>\n      <th></th>\n      <th>user_id</th>\n      <th>age</th>\n      <th>zip_code</th>\n    </tr>\n    <tr>\n      <th>gender</th>\n      <th>occupation</th>\n      <th></th>\n      <th></th>\n      <th></th>\n    </tr>\n  </thead>\n  <tbody>\n    <tr>\n      <th rowspan=\"20\" valign=\"top\">F</th>\n      <th>administrator</th>\n      <td>36</td>\n      <td>36</td>\n      <td>36</td>\n    </tr>\n    <tr>\n      <th>artist</th>\n      <td>13</td>\n      <td>13</td>\n      <td>13</td>\n    </tr>\n    <tr>\n      <th>educator</th>\n      <td>26</td>\n      <td>26</td>\n      <td>26</td>\n    </tr>\n    <tr>\n      <th>engineer</th>\n      <td>2</td>\n      <td>2</td>\n      <td>2</td>\n    </tr>\n    <tr>\n      <th>entertainment</th>\n      <td>2</td>\n      <td>2</td>\n      <td>2</td>\n    </tr>\n    <tr>\n      <th>executive</th>\n      <td>3</td>\n      <td>3</td>\n      <td>3</td>\n    </tr>\n    <tr>\n      <th>healthcare</th>\n      <td>11</td>\n      <td>11</td>\n      <td>11</td>\n    </tr>\n    <tr>\n      <th>homemaker</th>\n      <td>6</td>\n      <td>6</td>\n      <td>6</td>\n    </tr>\n    <tr>\n      <th>lawyer</th>\n      <td>2</td>\n      <td>2</td>\n      <td>2</td>\n    </tr>\n    <tr>\n      <th>librarian</th>\n      <td>29</td>\n      <td>29</td>\n      <td>29</td>\n    </tr>\n    <tr>\n      <th>marketing</th>\n      <td>10</td>\n      <td>10</td>\n      <td>10</td>\n    </tr>\n    <tr>\n      <th>none</th>\n      <td>4</td>\n      <td>4</td>\n      <td>4</td>\n    </tr>\n    <tr>\n      <th>other</th>\n      <td>36</td>\n      <td>36</td>\n      <td>36</td>\n    </tr>\n    <tr>\n      <th>programmer</th>\n      <td>6</td>\n      <td>6</td>\n      <td>6</td>\n    </tr>\n    <tr>\n      <th>retired</th>\n      <td>1</td>\n      <td>1</td>\n      <td>1</td>\n    </tr>\n    <tr>\n      <th>salesman</th>\n      <td>3</td>\n      <td>3</td>\n      <td>3</td>\n    </tr>\n    <tr>\n      <th>scientist</th>\n      <td>3</td>\n      <td>3</td>\n      <td>3</td>\n    </tr>\n    <tr>\n      <th>student</th>\n      <td>60</td>\n      <td>60</td>\n      <td>60</td>\n    </tr>\n    <tr>\n      <th>technician</th>\n      <td>1</td>\n      <td>1</td>\n      <td>1</td>\n    </tr>\n    <tr>\n      <th>writer</th>\n      <td>19</td>\n      <td>19</td>\n      <td>19</td>\n    </tr>\n    <tr>\n      <th rowspan=\"21\" valign=\"top\">M</th>\n      <th>administrator</th>\n      <td>43</td>\n      <td>43</td>\n      <td>43</td>\n    </tr>\n    <tr>\n      <th>artist</th>\n      <td>15</td>\n      <td>15</td>\n      <td>15</td>\n    </tr>\n    <tr>\n      <th>doctor</th>\n      <td>7</td>\n      <td>7</td>\n      <td>7</td>\n    </tr>\n    <tr>\n      <th>educator</th>\n      <td>69</td>\n      <td>69</td>\n      <td>69</td>\n    </tr>\n    <tr>\n      <th>engineer</th>\n      <td>65</td>\n      <td>65</td>\n      <td>65</td>\n    </tr>\n    <tr>\n      <th>entertainment</th>\n      <td>16</td>\n      <td>16</td>\n      <td>16</td>\n    </tr>\n    <tr>\n      <th>executive</th>\n      <td>29</td>\n      <td>29</td>\n      <td>29</td>\n    </tr>\n    <tr>\n      <th>healthcare</th>\n      <td>5</td>\n      <td>5</td>\n      <td>5</td>\n    </tr>\n    <tr>\n      <th>homemaker</th>\n      <td>1</td>\n      <td>1</td>\n      <td>1</td>\n    </tr>\n    <tr>\n      <th>lawyer</th>\n      <td>10</td>\n      <td>10</td>\n      <td>10</td>\n    </tr>\n    <tr>\n      <th>librarian</th>\n      <td>22</td>\n      <td>22</td>\n      <td>22</td>\n    </tr>\n    <tr>\n      <th>marketing</th>\n      <td>16</td>\n      <td>16</td>\n      <td>16</td>\n    </tr>\n    <tr>\n      <th>none</th>\n      <td>5</td>\n      <td>5</td>\n      <td>5</td>\n    </tr>\n    <tr>\n      <th>other</th>\n      <td>69</td>\n      <td>69</td>\n      <td>69</td>\n    </tr>\n    <tr>\n      <th>programmer</th>\n      <td>60</td>\n      <td>60</td>\n      <td>60</td>\n    </tr>\n    <tr>\n      <th>retired</th>\n      <td>13</td>\n      <td>13</td>\n      <td>13</td>\n    </tr>\n    <tr>\n      <th>salesman</th>\n      <td>9</td>\n      <td>9</td>\n      <td>9</td>\n    </tr>\n    <tr>\n      <th>scientist</th>\n      <td>28</td>\n      <td>28</td>\n      <td>28</td>\n    </tr>\n    <tr>\n      <th>student</th>\n      <td>136</td>\n      <td>136</td>\n      <td>136</td>\n    </tr>\n    <tr>\n      <th>technician</th>\n      <td>26</td>\n      <td>26</td>\n      <td>26</td>\n    </tr>\n    <tr>\n      <th>writer</th>\n      <td>26</td>\n      <td>26</td>\n      <td>26</td>\n    </tr>\n  </tbody>\n</table>\n</div>"
     },
     "execution_count": 12,
     "metadata": {},
     "output_type": "execute_result"
    }
   ],
   "source": [
    "users.groupby(['gender','occupation']).count()"
   ],
   "metadata": {
    "collapsed": false,
    "ExecuteTime": {
     "end_time": "2024-06-12T22:53:59.760955Z",
     "start_time": "2024-06-12T22:53:59.745773Z"
    }
   },
   "id": "a2fb45fb37d208f5"
  },
  {
   "cell_type": "code",
   "execution_count": 13,
   "outputs": [
    {
     "data": {
      "text/plain": "     user_id  age gender     occupation zip_code\n0          1   24      M     technician    85711\n1          2   53      F          other    94043\n2          3   23      M         writer    32067\n3          4   24      M     technician    43537\n4          5   33      F          other    15213\n..       ...  ...    ...            ...      ...\n938      939   26      F        student    33319\n939      940   32      M  administrator    02215\n940      941   20      M        student    97229\n941      942   48      F      librarian    78209\n942      943   22      M        student    77841\n\n[943 rows x 5 columns]",
      "text/html": "<div>\n<style scoped>\n    .dataframe tbody tr th:only-of-type {\n        vertical-align: middle;\n    }\n\n    .dataframe tbody tr th {\n        vertical-align: top;\n    }\n\n    .dataframe thead th {\n        text-align: right;\n    }\n</style>\n<table border=\"1\" class=\"dataframe\">\n  <thead>\n    <tr style=\"text-align: right;\">\n      <th></th>\n      <th>user_id</th>\n      <th>age</th>\n      <th>gender</th>\n      <th>occupation</th>\n      <th>zip_code</th>\n    </tr>\n  </thead>\n  <tbody>\n    <tr>\n      <th>0</th>\n      <td>1</td>\n      <td>24</td>\n      <td>M</td>\n      <td>technician</td>\n      <td>85711</td>\n    </tr>\n    <tr>\n      <th>1</th>\n      <td>2</td>\n      <td>53</td>\n      <td>F</td>\n      <td>other</td>\n      <td>94043</td>\n    </tr>\n    <tr>\n      <th>2</th>\n      <td>3</td>\n      <td>23</td>\n      <td>M</td>\n      <td>writer</td>\n      <td>32067</td>\n    </tr>\n    <tr>\n      <th>3</th>\n      <td>4</td>\n      <td>24</td>\n      <td>M</td>\n      <td>technician</td>\n      <td>43537</td>\n    </tr>\n    <tr>\n      <th>4</th>\n      <td>5</td>\n      <td>33</td>\n      <td>F</td>\n      <td>other</td>\n      <td>15213</td>\n    </tr>\n    <tr>\n      <th>...</th>\n      <td>...</td>\n      <td>...</td>\n      <td>...</td>\n      <td>...</td>\n      <td>...</td>\n    </tr>\n    <tr>\n      <th>938</th>\n      <td>939</td>\n      <td>26</td>\n      <td>F</td>\n      <td>student</td>\n      <td>33319</td>\n    </tr>\n    <tr>\n      <th>939</th>\n      <td>940</td>\n      <td>32</td>\n      <td>M</td>\n      <td>administrator</td>\n      <td>02215</td>\n    </tr>\n    <tr>\n      <th>940</th>\n      <td>941</td>\n      <td>20</td>\n      <td>M</td>\n      <td>student</td>\n      <td>97229</td>\n    </tr>\n    <tr>\n      <th>941</th>\n      <td>942</td>\n      <td>48</td>\n      <td>F</td>\n      <td>librarian</td>\n      <td>78209</td>\n    </tr>\n    <tr>\n      <th>942</th>\n      <td>943</td>\n      <td>22</td>\n      <td>M</td>\n      <td>student</td>\n      <td>77841</td>\n    </tr>\n  </tbody>\n</table>\n<p>943 rows × 5 columns</p>\n</div>"
     },
     "execution_count": 13,
     "metadata": {},
     "output_type": "execute_result"
    }
   ],
   "source": [
    "users"
   ],
   "metadata": {
    "collapsed": false,
    "ExecuteTime": {
     "end_time": "2024-06-12T22:55:41.319004Z",
     "start_time": "2024-06-12T22:55:41.284798Z"
    }
   },
   "id": "6a49b9548b136a88"
  },
  {
   "cell_type": "code",
   "execution_count": 14,
   "outputs": [
    {
     "data": {
      "text/plain": "   user_id  age gender  occupation zip_code  gender_n\n0        1   24      M  technician    85711         1\n1        2   53      F       other    94043         0\n2        3   23      M      writer    32067         1\n3        4   24      M  technician    43537         1\n4        5   33      F       other    15213         0",
      "text/html": "<div>\n<style scoped>\n    .dataframe tbody tr th:only-of-type {\n        vertical-align: middle;\n    }\n\n    .dataframe tbody tr th {\n        vertical-align: top;\n    }\n\n    .dataframe thead th {\n        text-align: right;\n    }\n</style>\n<table border=\"1\" class=\"dataframe\">\n  <thead>\n    <tr style=\"text-align: right;\">\n      <th></th>\n      <th>user_id</th>\n      <th>age</th>\n      <th>gender</th>\n      <th>occupation</th>\n      <th>zip_code</th>\n      <th>gender_n</th>\n    </tr>\n  </thead>\n  <tbody>\n    <tr>\n      <th>0</th>\n      <td>1</td>\n      <td>24</td>\n      <td>M</td>\n      <td>technician</td>\n      <td>85711</td>\n      <td>1</td>\n    </tr>\n    <tr>\n      <th>1</th>\n      <td>2</td>\n      <td>53</td>\n      <td>F</td>\n      <td>other</td>\n      <td>94043</td>\n      <td>0</td>\n    </tr>\n    <tr>\n      <th>2</th>\n      <td>3</td>\n      <td>23</td>\n      <td>M</td>\n      <td>writer</td>\n      <td>32067</td>\n      <td>1</td>\n    </tr>\n    <tr>\n      <th>3</th>\n      <td>4</td>\n      <td>24</td>\n      <td>M</td>\n      <td>technician</td>\n      <td>43537</td>\n      <td>1</td>\n    </tr>\n    <tr>\n      <th>4</th>\n      <td>5</td>\n      <td>33</td>\n      <td>F</td>\n      <td>other</td>\n      <td>15213</td>\n      <td>0</td>\n    </tr>\n  </tbody>\n</table>\n</div>"
     },
     "execution_count": 14,
     "metadata": {},
     "output_type": "execute_result"
    }
   ],
   "source": [
    "def gender_to_number(x):\n",
    "    if x == 'F':\n",
    "        return 0\n",
    "    else:\n",
    "        return 1\n",
    "users['gender_n'] = users.gender.apply(gender_to_number)\n"
   ],
   "metadata": {
    "collapsed": false,
    "ExecuteTime": {
     "end_time": "2024-06-12T22:56:31.444754Z",
     "start_time": "2024-06-12T22:56:31.404323Z"
    }
   },
   "id": "33f3a35e1784c552"
  },
  {
   "cell_type": "code",
   "execution_count": 15,
   "outputs": [
    {
     "data": {
      "text/plain": "     user_id  age gender     occupation zip_code  gender_n\n0          1   24      M     technician    85711         1\n1          2   53      F          other    94043         0\n2          3   23      M         writer    32067         1\n3          4   24      M     technician    43537         1\n4          5   33      F          other    15213         0\n..       ...  ...    ...            ...      ...       ...\n938      939   26      F        student    33319         0\n939      940   32      M  administrator    02215         1\n940      941   20      M        student    97229         1\n941      942   48      F      librarian    78209         0\n942      943   22      M        student    77841         1\n\n[943 rows x 6 columns]",
      "text/html": "<div>\n<style scoped>\n    .dataframe tbody tr th:only-of-type {\n        vertical-align: middle;\n    }\n\n    .dataframe tbody tr th {\n        vertical-align: top;\n    }\n\n    .dataframe thead th {\n        text-align: right;\n    }\n</style>\n<table border=\"1\" class=\"dataframe\">\n  <thead>\n    <tr style=\"text-align: right;\">\n      <th></th>\n      <th>user_id</th>\n      <th>age</th>\n      <th>gender</th>\n      <th>occupation</th>\n      <th>zip_code</th>\n      <th>gender_n</th>\n    </tr>\n  </thead>\n  <tbody>\n    <tr>\n      <th>0</th>\n      <td>1</td>\n      <td>24</td>\n      <td>M</td>\n      <td>technician</td>\n      <td>85711</td>\n      <td>1</td>\n    </tr>\n    <tr>\n      <th>1</th>\n      <td>2</td>\n      <td>53</td>\n      <td>F</td>\n      <td>other</td>\n      <td>94043</td>\n      <td>0</td>\n    </tr>\n    <tr>\n      <th>2</th>\n      <td>3</td>\n      <td>23</td>\n      <td>M</td>\n      <td>writer</td>\n      <td>32067</td>\n      <td>1</td>\n    </tr>\n    <tr>\n      <th>3</th>\n      <td>4</td>\n      <td>24</td>\n      <td>M</td>\n      <td>technician</td>\n      <td>43537</td>\n      <td>1</td>\n    </tr>\n    <tr>\n      <th>4</th>\n      <td>5</td>\n      <td>33</td>\n      <td>F</td>\n      <td>other</td>\n      <td>15213</td>\n      <td>0</td>\n    </tr>\n    <tr>\n      <th>...</th>\n      <td>...</td>\n      <td>...</td>\n      <td>...</td>\n      <td>...</td>\n      <td>...</td>\n      <td>...</td>\n    </tr>\n    <tr>\n      <th>938</th>\n      <td>939</td>\n      <td>26</td>\n      <td>F</td>\n      <td>student</td>\n      <td>33319</td>\n      <td>0</td>\n    </tr>\n    <tr>\n      <th>939</th>\n      <td>940</td>\n      <td>32</td>\n      <td>M</td>\n      <td>administrator</td>\n      <td>02215</td>\n      <td>1</td>\n    </tr>\n    <tr>\n      <th>940</th>\n      <td>941</td>\n      <td>20</td>\n      <td>M</td>\n      <td>student</td>\n      <td>97229</td>\n      <td>1</td>\n    </tr>\n    <tr>\n      <th>941</th>\n      <td>942</td>\n      <td>48</td>\n      <td>F</td>\n      <td>librarian</td>\n      <td>78209</td>\n      <td>0</td>\n    </tr>\n    <tr>\n      <th>942</th>\n      <td>943</td>\n      <td>22</td>\n      <td>M</td>\n      <td>student</td>\n      <td>77841</td>\n      <td>1</td>\n    </tr>\n  </tbody>\n</table>\n<p>943 rows × 6 columns</p>\n</div>"
     },
     "execution_count": 15,
     "metadata": {},
     "output_type": "execute_result"
    }
   ],
   "source": [
    "users"
   ],
   "metadata": {
    "collapsed": false,
    "ExecuteTime": {
     "end_time": "2024-06-12T22:56:55.965697Z",
     "start_time": "2024-06-12T22:56:55.936109Z"
    }
   },
   "id": "ed0b9a360e056691"
  },
  {
   "cell_type": "code",
   "execution_count": 16,
   "outputs": [
    {
     "data": {
      "text/plain": "occupation\nadministrator     54.430380\nartist            53.571429\ndoctor           100.000000\neducator          72.631579\nengineer          97.014925\nentertainment     88.888889\nexecutive         90.625000\nhealthcare        31.250000\nhomemaker         14.285714\nlawyer            83.333333\nlibrarian         43.137255\nmarketing         61.538462\nnone              55.555556\nother             65.714286\nprogrammer        90.909091\nretired           92.857143\nsalesman          75.000000\nscientist         90.322581\nstudent           69.387755\ntechnician        96.296296\nwriter            57.777778\ndtype: float64"
     },
     "execution_count": 16,
     "metadata": {},
     "output_type": "execute_result"
    }
   ],
   "source": [
    "a = users.groupby('occupation').gender_n.sum() / users.occupation.value_counts() * 100\n"
   ],
   "metadata": {
    "collapsed": false,
    "ExecuteTime": {
     "end_time": "2024-06-12T22:58:21.445818Z",
     "start_time": "2024-06-12T22:58:21.436838Z"
    }
   },
   "id": "cc5e923f74a83921"
  },
  {
   "cell_type": "code",
   "execution_count": 18,
   "outputs": [
    {
     "data": {
      "text/plain": "occupation\ndoctor           100.000000\nengineer          97.014925\ntechnician        96.296296\nretired           92.857143\nprogrammer        90.909091\nexecutive         90.625000\nscientist         90.322581\nentertainment     88.888889\nlawyer            83.333333\nsalesman          75.000000\neducator          72.631579\nstudent           69.387755\nother             65.714286\nmarketing         61.538462\nwriter            57.777778\nnone              55.555556\nadministrator     54.430380\nartist            53.571429\nlibrarian         43.137255\nhealthcare        31.250000\nhomemaker         14.285714\ndtype: float64"
     },
     "execution_count": 18,
     "metadata": {},
     "output_type": "execute_result"
    }
   ],
   "source": [
    "a.sort_values(ascending=False)"
   ],
   "metadata": {
    "collapsed": false,
    "ExecuteTime": {
     "end_time": "2024-06-12T22:59:13.774470Z",
     "start_time": "2024-06-12T22:59:13.756437Z"
    }
   },
   "id": "152e3bd8c2042156"
  },
  {
   "cell_type": "code",
   "execution_count": 20,
   "outputs": [
    {
     "data": {
      "text/plain": "                    mean  median  count\noccupation                             \nadministrator  38.746835    37.0     79\nartist         31.392857    30.0     28\ndoctor         43.571429    45.0      7\neducator       42.010526    42.0     95\nengineer       36.388060    36.0     67\nentertainment  29.222222    25.0     18\nexecutive      38.718750    38.5     32\nhealthcare     41.562500    44.5     16\nhomemaker      32.571429    32.0      7\nlawyer         36.750000    34.0     12\nlibrarian      40.000000    39.0     51\nmarketing      37.615385    36.0     26\nnone           26.555556    26.0      9\nother          34.523810    32.0    105\nprogrammer     33.121212    30.0     66\nretired        63.071429    63.0     14\nsalesman       35.666667    34.0     12\nscientist      35.548387    37.0     31\nstudent        22.081633    21.0    196\ntechnician     33.148148    30.0     27\nwriter         36.311111    36.0     45",
      "text/html": "<div>\n<style scoped>\n    .dataframe tbody tr th:only-of-type {\n        vertical-align: middle;\n    }\n\n    .dataframe tbody tr th {\n        vertical-align: top;\n    }\n\n    .dataframe thead th {\n        text-align: right;\n    }\n</style>\n<table border=\"1\" class=\"dataframe\">\n  <thead>\n    <tr style=\"text-align: right;\">\n      <th></th>\n      <th>mean</th>\n      <th>median</th>\n      <th>count</th>\n    </tr>\n    <tr>\n      <th>occupation</th>\n      <th></th>\n      <th></th>\n      <th></th>\n    </tr>\n  </thead>\n  <tbody>\n    <tr>\n      <th>administrator</th>\n      <td>38.746835</td>\n      <td>37.0</td>\n      <td>79</td>\n    </tr>\n    <tr>\n      <th>artist</th>\n      <td>31.392857</td>\n      <td>30.0</td>\n      <td>28</td>\n    </tr>\n    <tr>\n      <th>doctor</th>\n      <td>43.571429</td>\n      <td>45.0</td>\n      <td>7</td>\n    </tr>\n    <tr>\n      <th>educator</th>\n      <td>42.010526</td>\n      <td>42.0</td>\n      <td>95</td>\n    </tr>\n    <tr>\n      <th>engineer</th>\n      <td>36.388060</td>\n      <td>36.0</td>\n      <td>67</td>\n    </tr>\n    <tr>\n      <th>entertainment</th>\n      <td>29.222222</td>\n      <td>25.0</td>\n      <td>18</td>\n    </tr>\n    <tr>\n      <th>executive</th>\n      <td>38.718750</td>\n      <td>38.5</td>\n      <td>32</td>\n    </tr>\n    <tr>\n      <th>healthcare</th>\n      <td>41.562500</td>\n      <td>44.5</td>\n      <td>16</td>\n    </tr>\n    <tr>\n      <th>homemaker</th>\n      <td>32.571429</td>\n      <td>32.0</td>\n      <td>7</td>\n    </tr>\n    <tr>\n      <th>lawyer</th>\n      <td>36.750000</td>\n      <td>34.0</td>\n      <td>12</td>\n    </tr>\n    <tr>\n      <th>librarian</th>\n      <td>40.000000</td>\n      <td>39.0</td>\n      <td>51</td>\n    </tr>\n    <tr>\n      <th>marketing</th>\n      <td>37.615385</td>\n      <td>36.0</td>\n      <td>26</td>\n    </tr>\n    <tr>\n      <th>none</th>\n      <td>26.555556</td>\n      <td>26.0</td>\n      <td>9</td>\n    </tr>\n    <tr>\n      <th>other</th>\n      <td>34.523810</td>\n      <td>32.0</td>\n      <td>105</td>\n    </tr>\n    <tr>\n      <th>programmer</th>\n      <td>33.121212</td>\n      <td>30.0</td>\n      <td>66</td>\n    </tr>\n    <tr>\n      <th>retired</th>\n      <td>63.071429</td>\n      <td>63.0</td>\n      <td>14</td>\n    </tr>\n    <tr>\n      <th>salesman</th>\n      <td>35.666667</td>\n      <td>34.0</td>\n      <td>12</td>\n    </tr>\n    <tr>\n      <th>scientist</th>\n      <td>35.548387</td>\n      <td>37.0</td>\n      <td>31</td>\n    </tr>\n    <tr>\n      <th>student</th>\n      <td>22.081633</td>\n      <td>21.0</td>\n      <td>196</td>\n    </tr>\n    <tr>\n      <th>technician</th>\n      <td>33.148148</td>\n      <td>30.0</td>\n      <td>27</td>\n    </tr>\n    <tr>\n      <th>writer</th>\n      <td>36.311111</td>\n      <td>36.0</td>\n      <td>45</td>\n    </tr>\n  </tbody>\n</table>\n</div>"
     },
     "execution_count": 20,
     "metadata": {},
     "output_type": "execute_result"
    }
   ],
   "source": [
    "users.groupby('occupation').age.agg(['mean','median','count'])"
   ],
   "metadata": {
    "collapsed": false,
    "ExecuteTime": {
     "end_time": "2024-06-12T23:03:19.933746Z",
     "start_time": "2024-06-12T23:03:19.920121Z"
    }
   },
   "id": "6b9b541379454ed5"
  },
  {
   "cell_type": "code",
   "execution_count": null,
   "outputs": [],
   "source": [],
   "metadata": {
    "collapsed": false
   },
   "id": "edbbd7354e5df686"
  }
 ],
 "metadata": {
  "kernelspec": {
   "display_name": "Python 3",
   "language": "python",
   "name": "python3"
  },
  "language_info": {
   "codemirror_mode": {
    "name": "ipython",
    "version": 2
   },
   "file_extension": ".py",
   "mimetype": "text/x-python",
   "name": "python",
   "nbconvert_exporter": "python",
   "pygments_lexer": "ipython2",
   "version": "2.7.6"
  }
 },
 "nbformat": 4,
 "nbformat_minor": 5
}
