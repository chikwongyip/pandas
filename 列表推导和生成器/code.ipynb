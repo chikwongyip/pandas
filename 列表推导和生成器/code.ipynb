{
 "cells": [
  {
   "cell_type": "code",
   "execution_count": 1,
   "id": "initial_id",
   "metadata": {
    "collapsed": true,
    "ExecuteTime": {
     "end_time": "2024-07-01T22:25:06.865523Z",
     "start_time": "2024-07-01T22:25:06.759044Z"
    }
   },
   "outputs": [
    {
     "data": {
      "text/plain": "[162, 163, 165, 8364, 164]"
     },
     "execution_count": 1,
     "metadata": {},
     "output_type": "execute_result"
    }
   ],
   "source": [
    "import collections\n",
    "\n",
    "symbols = '¢£¥€¤'\n",
    "beyond_ascii = [ord(s) for s in symbols if ord(s) > 127]\n",
    "beyond_ascii"
   ]
  },
  {
   "cell_type": "code",
   "execution_count": 2,
   "outputs": [],
   "source": [
    "beyond_ascii = list(filter(lambda c:c> 127, map(ord, symbols)))"
   ],
   "metadata": {
    "collapsed": false,
    "ExecuteTime": {
     "end_time": "2024-07-01T22:25:06.866033Z",
     "start_time": "2024-07-01T22:25:06.782777Z"
    }
   },
   "id": "b7382e63e80c7a5f"
  },
  {
   "cell_type": "code",
   "execution_count": 3,
   "outputs": [
    {
     "data": {
      "text/plain": "[162, 163, 165, 8364, 164]"
     },
     "execution_count": 3,
     "metadata": {},
     "output_type": "execute_result"
    }
   ],
   "source": [
    "beyond_ascii"
   ],
   "metadata": {
    "collapsed": false,
    "ExecuteTime": {
     "end_time": "2024-07-01T22:25:06.866640Z",
     "start_time": "2024-07-01T22:25:06.788538Z"
    }
   },
   "id": "c4547a8e19e04d04"
  },
  {
   "cell_type": "code",
   "execution_count": 4,
   "outputs": [
    {
     "data": {
      "text/plain": "[('black', 'S'),\n ('black', 'M'),\n ('black', 'L'),\n ('white', 'S'),\n ('white', 'M'),\n ('white', 'L')]"
     },
     "execution_count": 4,
     "metadata": {},
     "output_type": "execute_result"
    }
   ],
   "source": [
    "colors = ['black', 'white']\n",
    "sizes = ['S','M','L']\n",
    "tshirts = [(color,size) for color in colors for size in  sizes]\n",
    "tshirts"
   ],
   "metadata": {
    "collapsed": false,
    "ExecuteTime": {
     "end_time": "2024-07-01T22:25:06.867241Z",
     "start_time": "2024-07-01T22:25:06.797642Z"
    }
   },
   "id": "138da4444b81e0cd"
  },
  {
   "cell_type": "code",
   "execution_count": 5,
   "outputs": [
    {
     "data": {
      "text/plain": "(162, 163, 165, 8364, 164)"
     },
     "execution_count": 5,
     "metadata": {},
     "output_type": "execute_result"
    }
   ],
   "source": [
    "symbols = '¢£¥€¤'\n",
    "tuple(ord(symbol) for symbol in symbols)\n"
   ],
   "metadata": {
    "collapsed": false,
    "ExecuteTime": {
     "end_time": "2024-07-01T22:25:06.867595Z",
     "start_time": "2024-07-01T22:25:06.807011Z"
    }
   },
   "id": "afe00295eb839bcf"
  },
  {
   "cell_type": "code",
   "execution_count": 6,
   "outputs": [
    {
     "data": {
      "text/plain": "array('I', [162, 163, 165, 8364, 164])"
     },
     "execution_count": 6,
     "metadata": {},
     "output_type": "execute_result"
    }
   ],
   "source": [
    "import array\n",
    "array.array('I',(ord(symbol) for symbol in symbols))"
   ],
   "metadata": {
    "collapsed": false,
    "ExecuteTime": {
     "end_time": "2024-07-01T22:25:06.867908Z",
     "start_time": "2024-07-01T22:25:06.813497Z"
    }
   },
   "id": "4bfac468fa01b998"
  },
  {
   "cell_type": "code",
   "execution_count": 7,
   "outputs": [],
   "source": [
    "lax_coordinates = (33.9425, -118.4080)"
   ],
   "metadata": {
    "collapsed": false,
    "ExecuteTime": {
     "end_time": "2024-07-01T22:25:06.868301Z",
     "start_time": "2024-07-01T22:25:06.821704Z"
    }
   },
   "id": "f62273a87780e1db"
  },
  {
   "cell_type": "code",
   "execution_count": 8,
   "outputs": [
    {
     "data": {
      "text/plain": "33.9425"
     },
     "execution_count": 8,
     "metadata": {},
     "output_type": "execute_result"
    }
   ],
   "source": [
    "lat,lng = lax_coordinates\n",
    "lat"
   ],
   "metadata": {
    "collapsed": false,
    "ExecuteTime": {
     "end_time": "2024-07-01T22:25:06.868703Z",
     "start_time": "2024-07-01T22:25:06.829502Z"
    }
   },
   "id": "7d905fd9106f3c26"
  },
  {
   "cell_type": "code",
   "execution_count": 9,
   "outputs": [
    {
     "data": {
      "text/plain": "-118.408"
     },
     "execution_count": 9,
     "metadata": {},
     "output_type": "execute_result"
    }
   ],
   "source": [
    "lng"
   ],
   "metadata": {
    "collapsed": false,
    "ExecuteTime": {
     "end_time": "2024-07-01T22:25:06.903926Z",
     "start_time": "2024-07-01T22:25:06.836552Z"
    }
   },
   "id": "4c7d230e84ee65fb"
  },
  {
   "cell_type": "code",
   "execution_count": 10,
   "outputs": [
    {
     "data": {
      "text/plain": "(2, 4)"
     },
     "execution_count": 10,
     "metadata": {},
     "output_type": "execute_result"
    }
   ],
   "source": [
    "divmod(20,8)"
   ],
   "metadata": {
    "collapsed": false,
    "ExecuteTime": {
     "end_time": "2024-07-01T22:25:06.904676Z",
     "start_time": "2024-07-01T22:25:06.842718Z"
    }
   },
   "id": "25e908ab521443ef"
  },
  {
   "cell_type": "code",
   "execution_count": 11,
   "outputs": [
    {
     "data": {
      "text/plain": "(2, 4)"
     },
     "execution_count": 11,
     "metadata": {},
     "output_type": "execute_result"
    }
   ],
   "source": [
    "t =(20,8)\n",
    "divmod(*t)"
   ],
   "metadata": {
    "collapsed": false,
    "ExecuteTime": {
     "end_time": "2024-07-01T22:25:06.905089Z",
     "start_time": "2024-07-01T22:25:06.850708Z"
    }
   },
   "id": "65d76f2e4113f888"
  },
  {
   "cell_type": "code",
   "execution_count": 12,
   "outputs": [
    {
     "data": {
      "text/plain": "(2, 4)"
     },
     "execution_count": 12,
     "metadata": {},
     "output_type": "execute_result"
    }
   ],
   "source": [
    "q,r = divmod(*t)\n",
    "q,r"
   ],
   "metadata": {
    "collapsed": false,
    "ExecuteTime": {
     "end_time": "2024-07-01T22:25:06.905391Z",
     "start_time": "2024-07-01T22:25:06.859249Z"
    }
   },
   "id": "439dfab2b24103cc"
  },
  {
   "cell_type": "code",
   "execution_count": 13,
   "outputs": [],
   "source": [
    "a,b,*rest = range(5)"
   ],
   "metadata": {
    "collapsed": false,
    "ExecuteTime": {
     "end_time": "2024-07-01T22:25:06.923058Z",
     "start_time": "2024-07-01T22:25:06.866351Z"
    }
   },
   "id": "a6a36c7f95678f9"
  },
  {
   "cell_type": "code",
   "execution_count": 14,
   "outputs": [
    {
     "data": {
      "text/plain": "[2, 3, 4]"
     },
     "execution_count": 14,
     "metadata": {},
     "output_type": "execute_result"
    }
   ],
   "source": [
    "rest"
   ],
   "metadata": {
    "collapsed": false,
    "ExecuteTime": {
     "end_time": "2024-07-01T22:25:06.924204Z",
     "start_time": "2024-07-01T22:25:06.875175Z"
    }
   },
   "id": "e19481a9952371fc"
  },
  {
   "cell_type": "code",
   "execution_count": 15,
   "outputs": [
    {
     "data": {
      "text/plain": "(0, [1, 2, 3, 4, 5, 6, 7], 8, 9)"
     },
     "execution_count": 15,
     "metadata": {},
     "output_type": "execute_result"
    }
   ],
   "source": [
    "a, *rest,b,c = range(10)\n",
    "a,rest,b,c"
   ],
   "metadata": {
    "collapsed": false,
    "ExecuteTime": {
     "end_time": "2024-07-01T22:25:07.067081Z",
     "start_time": "2024-07-01T22:25:06.881770Z"
    }
   },
   "id": "f929557b8d5ce492"
  },
  {
   "cell_type": "code",
   "execution_count": 16,
   "outputs": [],
   "source": [
    "import os\n",
    "_, filename = os.path.split('/home/user/test.txt')"
   ],
   "metadata": {
    "collapsed": false,
    "ExecuteTime": {
     "end_time": "2024-07-01T22:25:40.005164Z",
     "start_time": "2024-07-01T22:25:39.995052Z"
    }
   },
   "id": "231c19de53294a5e"
  },
  {
   "cell_type": "code",
   "execution_count": 17,
   "outputs": [
    {
     "data": {
      "text/plain": "'test.txt'"
     },
     "execution_count": 17,
     "metadata": {},
     "output_type": "execute_result"
    }
   ],
   "source": [
    "filename"
   ],
   "metadata": {
    "collapsed": false,
    "ExecuteTime": {
     "end_time": "2024-07-01T22:25:42.545243Z",
     "start_time": "2024-07-01T22:25:42.537995Z"
    }
   },
   "id": "6d45000a80a50ff4"
  },
  {
   "cell_type": "code",
   "execution_count": 19,
   "outputs": [
    {
     "data": {
      "text/plain": "__main__.Card"
     },
     "execution_count": 19,
     "metadata": {},
     "output_type": "execute_result"
    }
   ],
   "source": [
    "from collections import namedtuple\n",
    "Card = namedtuple('Card',['rank','suit'])\n",
    "Card"
   ],
   "metadata": {
    "collapsed": false,
    "ExecuteTime": {
     "end_time": "2024-07-01T22:29:27.559384Z",
     "start_time": "2024-07-01T22:29:27.547324Z"
    }
   },
   "id": "ad13ffd8e2b9bbad"
  },
  {
   "cell_type": "code",
   "execution_count": 20,
   "outputs": [],
   "source": [
    "City = namedtuple('City','name country population coordinates')"
   ],
   "metadata": {
    "collapsed": false,
    "ExecuteTime": {
     "end_time": "2024-07-01T22:30:51.378569Z",
     "start_time": "2024-07-01T22:30:51.372296Z"
    }
   },
   "id": "509865091695533b"
  },
  {
   "cell_type": "code",
   "execution_count": 21,
   "outputs": [],
   "source": [
    "tokyo = City('Tokyo','JP',36.933, (35.6897, 139.6917))"
   ],
   "metadata": {
    "collapsed": false,
    "ExecuteTime": {
     "end_time": "2024-07-01T22:31:11.206302Z",
     "start_time": "2024-07-01T22:31:11.200115Z"
    }
   },
   "id": "931eda04e5a9e7fc"
  },
  {
   "cell_type": "code",
   "execution_count": 22,
   "outputs": [
    {
     "data": {
      "text/plain": "City(name='Tokyo', country='JP', population=36.933, coordinates=(35.6897, 139.6917))"
     },
     "execution_count": 22,
     "metadata": {},
     "output_type": "execute_result"
    }
   ],
   "source": [
    "tokyo"
   ],
   "metadata": {
    "collapsed": false,
    "ExecuteTime": {
     "end_time": "2024-07-01T22:31:16.468326Z",
     "start_time": "2024-07-01T22:31:16.441527Z"
    }
   },
   "id": "c5c1e21dbc4547cd"
  },
  {
   "cell_type": "code",
   "execution_count": 24,
   "outputs": [
    {
     "data": {
      "text/plain": "'Tokyo'"
     },
     "execution_count": 24,
     "metadata": {},
     "output_type": "execute_result"
    }
   ],
   "source": [
    "tokyo.name"
   ],
   "metadata": {
    "collapsed": false,
    "ExecuteTime": {
     "end_time": "2024-07-01T22:31:42.482585Z",
     "start_time": "2024-07-01T22:31:42.476050Z"
    }
   },
   "id": "bce2dfb0416d32e1"
  },
  {
   "cell_type": "code",
   "execution_count": 30,
   "outputs": [
    {
     "data": {
      "text/plain": "['1909  Pimoroni PiBrella                    $17.50    3    $52.50',\n '1489  6mm Tactile Switch x20                $4.95    2     $9.90',\n '1510  Panavise Jr. - PV-201                $28.00    1    $28.00',\n '1601  PiTFT Mini Kit 320x240               $34.95    1    $34.95',\n '']"
     },
     "execution_count": 30,
     "metadata": {},
     "output_type": "execute_result"
    }
   ],
   "source": [
    "invoice = \"\"\"\n",
    "0.....6................................40........52...55........\n",
    "1909  Pimoroni PiBrella                    $17.50    3    $52.50\n",
    "1489  6mm Tactile Switch x20                $4.95    2     $9.90\n",
    "1510  Panavise Jr. - PV-201                $28.00    1    $28.00\n",
    "1601  PiTFT Mini Kit 320x240               $34.95    1    $34.95\n",
    "\"\"\"\n",
    "sku = slice(0, 6)\n",
    "description = slice(6,40)\n",
    "price = slice(40, 52)\n",
    "qty = slice(52, 55)\n",
    "total = slice(55, None)\n",
    "line_items = invoice.split('\\n')\n",
    "line_items[2:]"
   ],
   "metadata": {
    "collapsed": false,
    "ExecuteTime": {
     "end_time": "2024-07-01T22:47:58.275829Z",
     "start_time": "2024-07-01T22:47:58.262362Z"
    }
   },
   "id": "7fd6a8b3609ded28"
  },
  {
   "cell_type": "code",
   "execution_count": 32,
   "outputs": [
    {
     "name": "stdout",
     "output_type": "stream",
     "text": [
      "    \n",
      "0..... 6................................4 ..5 0........52. 5........\n",
      "1909   Pimoroni PiBrella                   3     $17.50       $52.50\n",
      "1489   6mm Tactile Switch x20              2      $4.95        $9.90\n",
      "1510   Panavise Jr. - PV-201               1     $28.00       $28.00\n",
      "1601   PiTFT Mini Kit 320x240              1     $34.95       $34.95\n",
      "    \n"
     ]
    }
   ],
   "source": [
    "for line_item in  line_items:\n",
    "    print(line_item[sku],line_item[description],line_item[qty],line_item[price],line_item[total])"
   ],
   "metadata": {
    "collapsed": false,
    "ExecuteTime": {
     "end_time": "2024-07-01T22:49:01.586003Z",
     "start_time": "2024-07-01T22:49:01.529728Z"
    }
   },
   "id": "23f6c7e4182b24e0"
  },
  {
   "cell_type": "code",
   "execution_count": 33,
   "outputs": [],
   "source": [
    "l = [1,2,3]"
   ],
   "metadata": {
    "collapsed": false,
    "ExecuteTime": {
     "end_time": "2024-07-01T22:50:04.145072Z",
     "start_time": "2024-07-01T22:50:04.091969Z"
    }
   },
   "id": "11a6b30c2ee54fd4"
  },
  {
   "cell_type": "code",
   "execution_count": 34,
   "outputs": [
    {
     "data": {
      "text/plain": "[1, 2, 3, 1, 2, 3, 1, 2, 3, 1, 2, 3, 1, 2, 3]"
     },
     "execution_count": 34,
     "metadata": {},
     "output_type": "execute_result"
    }
   ],
   "source": [
    "l * 5"
   ],
   "metadata": {
    "collapsed": false,
    "ExecuteTime": {
     "end_time": "2024-07-01T22:50:07.786265Z",
     "start_time": "2024-07-01T22:50:07.779593Z"
    }
   },
   "id": "3261f4a61e3a5b14"
  },
  {
   "cell_type": "code",
   "execution_count": 35,
   "outputs": [],
   "source": [
    "board = [['_'] * 3 for i in range(3)]"
   ],
   "metadata": {
    "collapsed": false,
    "ExecuteTime": {
     "end_time": "2024-07-01T22:53:03.484084Z",
     "start_time": "2024-07-01T22:53:03.435305Z"
    }
   },
   "id": "ee0ceccef57928b"
  },
  {
   "cell_type": "code",
   "execution_count": 36,
   "outputs": [
    {
     "data": {
      "text/plain": "[['_', '_', '_'], ['_', '_', '_'], ['_', '_', '_']]"
     },
     "execution_count": 36,
     "metadata": {},
     "output_type": "execute_result"
    }
   ],
   "source": [
    "board"
   ],
   "metadata": {
    "collapsed": false,
    "ExecuteTime": {
     "end_time": "2024-07-01T22:53:07.062092Z",
     "start_time": "2024-07-01T22:53:07.000879Z"
    }
   },
   "id": "19640edbd55527a9"
  },
  {
   "cell_type": "code",
   "execution_count": 37,
   "outputs": [],
   "source": [
    "l = [1,2,3]"
   ],
   "metadata": {
    "collapsed": false,
    "ExecuteTime": {
     "end_time": "2024-07-01T22:56:27.760218Z",
     "start_time": "2024-07-01T22:56:27.720644Z"
    }
   },
   "id": "104bfb950fa2f71f"
  },
  {
   "cell_type": "code",
   "execution_count": 38,
   "outputs": [
    {
     "data": {
      "text/plain": "140599395000128"
     },
     "execution_count": 38,
     "metadata": {},
     "output_type": "execute_result"
    }
   ],
   "source": [
    "id(l)"
   ],
   "metadata": {
    "collapsed": false,
    "ExecuteTime": {
     "end_time": "2024-07-01T22:56:32.526703Z",
     "start_time": "2024-07-01T22:56:32.519073Z"
    }
   },
   "id": "dae8704e94d73f3e"
  },
  {
   "cell_type": "code",
   "execution_count": 40,
   "outputs": [],
   "source": [
    "l *= 2"
   ],
   "metadata": {
    "collapsed": false,
    "ExecuteTime": {
     "end_time": "2024-07-01T22:56:45.006217Z",
     "start_time": "2024-07-01T22:56:44.962032Z"
    }
   },
   "id": "49b929fd227b25d6"
  },
  {
   "cell_type": "code",
   "execution_count": 41,
   "outputs": [
    {
     "data": {
      "text/plain": "[1, 2, 3, 1, 2, 3]"
     },
     "execution_count": 41,
     "metadata": {},
     "output_type": "execute_result"
    }
   ],
   "source": [
    "l"
   ],
   "metadata": {
    "collapsed": false,
    "ExecuteTime": {
     "end_time": "2024-07-01T22:56:48.266252Z",
     "start_time": "2024-07-01T22:56:48.256300Z"
    }
   },
   "id": "be384e89783426b6"
  },
  {
   "cell_type": "code",
   "execution_count": 42,
   "outputs": [
    {
     "data": {
      "text/plain": "140599395000128"
     },
     "execution_count": 42,
     "metadata": {},
     "output_type": "execute_result"
    }
   ],
   "source": [
    "id(l)"
   ],
   "metadata": {
    "collapsed": false,
    "ExecuteTime": {
     "end_time": "2024-07-01T22:56:55.028062Z",
     "start_time": "2024-07-01T22:56:54.975733Z"
    }
   },
   "id": "6153e98e3b441353"
  },
  {
   "cell_type": "code",
   "execution_count": 43,
   "outputs": [
    {
     "ename": "TypeError",
     "evalue": "'tuple' object does not support item assignment",
     "output_type": "error",
     "traceback": [
      "\u001B[0;31m---------------------------------------------------------------------------\u001B[0m",
      "\u001B[0;31mTypeError\u001B[0m                                 Traceback (most recent call last)",
      "Cell \u001B[0;32mIn[43], line 2\u001B[0m\n\u001B[1;32m      1\u001B[0m t \u001B[38;5;241m=\u001B[39m (\u001B[38;5;241m1\u001B[39m,\u001B[38;5;241m2\u001B[39m,[\u001B[38;5;241m30\u001B[39m,\u001B[38;5;241m40\u001B[39m])\n\u001B[0;32m----> 2\u001B[0m \u001B[43mt\u001B[49m\u001B[43m[\u001B[49m\u001B[38;5;241;43m2\u001B[39;49m\u001B[43m]\u001B[49m \u001B[38;5;241m+\u001B[39m\u001B[38;5;241m=\u001B[39m [\u001B[38;5;241m50\u001B[39m,\u001B[38;5;241m60\u001B[39m]\n\u001B[1;32m      3\u001B[0m t\n",
      "\u001B[0;31mTypeError\u001B[0m: 'tuple' object does not support item assignment"
     ]
    }
   ],
   "source": [
    "t = (1,2,[30,40])\n",
    "t[2] += [50,60]\n",
    "t"
   ],
   "metadata": {
    "collapsed": false,
    "ExecuteTime": {
     "end_time": "2024-07-01T22:58:29.123055Z",
     "start_time": "2024-07-01T22:58:29.049836Z"
    }
   },
   "id": "1e6202a8ac8a43e"
  },
  {
   "cell_type": "code",
   "execution_count": 44,
   "outputs": [
    {
     "data": {
      "text/plain": "(1, 2, [30, 40, 50, 60])"
     },
     "execution_count": 44,
     "metadata": {},
     "output_type": "execute_result"
    }
   ],
   "source": [
    "t"
   ],
   "metadata": {
    "collapsed": false,
    "ExecuteTime": {
     "end_time": "2024-07-01T23:00:17.348465Z",
     "start_time": "2024-07-01T23:00:17.338498Z"
    }
   },
   "id": "98db2b6628173b7c"
  },
  {
   "cell_type": "code",
   "execution_count": 46,
   "outputs": [
    {
     "data": {
      "text/plain": "['apples', 'grape', 'oranges', 'pears']"
     },
     "execution_count": 46,
     "metadata": {},
     "output_type": "execute_result"
    }
   ],
   "source": [
    "fruits = ['grape','apples', 'oranges', 'pears']\n",
    "sorted(fruits)"
   ],
   "metadata": {
    "collapsed": false,
    "ExecuteTime": {
     "end_time": "2024-07-01T23:29:54.468189Z",
     "start_time": "2024-07-01T23:29:54.451152Z"
    }
   },
   "id": "29fe6e2925a8f674"
  },
  {
   "cell_type": "code",
   "execution_count": 47,
   "outputs": [
    {
     "data": {
      "text/plain": "['pears', 'oranges', 'grape', 'apples']"
     },
     "execution_count": 47,
     "metadata": {},
     "output_type": "execute_result"
    }
   ],
   "source": [
    "sorted(fruits,reverse=True)"
   ],
   "metadata": {
    "collapsed": false,
    "ExecuteTime": {
     "end_time": "2024-07-01T23:30:14.280477Z",
     "start_time": "2024-07-01T23:30:14.236761Z"
    }
   },
   "id": "de08a324c1c99ad8"
  },
  {
   "cell_type": "code",
   "execution_count": 48,
   "outputs": [
    {
     "data": {
      "text/plain": "['grape', 'pears', 'apples', 'oranges']"
     },
     "execution_count": 48,
     "metadata": {},
     "output_type": "execute_result"
    }
   ],
   "source": [
    "sorted(fruits,key=len)"
   ],
   "metadata": {
    "collapsed": false,
    "ExecuteTime": {
     "end_time": "2024-07-01T23:30:42.975995Z",
     "start_time": "2024-07-01T23:30:42.945627Z"
    }
   },
   "id": "52f624aa3c3f6461"
  },
  {
   "cell_type": "code",
   "execution_count": 49,
   "outputs": [
    {
     "data": {
      "text/plain": "['grape', 'apples', 'oranges', 'pears']"
     },
     "execution_count": 49,
     "metadata": {},
     "output_type": "execute_result"
    }
   ],
   "source": [
    "fruits"
   ],
   "metadata": {
    "collapsed": false,
    "ExecuteTime": {
     "end_time": "2024-07-01T23:31:18.074702Z",
     "start_time": "2024-07-01T23:31:18.038544Z"
    }
   },
   "id": "3b70cae526a490bc"
  },
  {
   "cell_type": "code",
   "execution_count": 50,
   "outputs": [],
   "source": [
    "fruits.sort(key=len)"
   ],
   "metadata": {
    "collapsed": false,
    "ExecuteTime": {
     "end_time": "2024-07-01T23:31:48.416384Z",
     "start_time": "2024-07-01T23:31:48.363259Z"
    }
   },
   "id": "459464a5bfbc1514"
  },
  {
   "cell_type": "code",
   "execution_count": 51,
   "outputs": [
    {
     "data": {
      "text/plain": "['grape', 'pears', 'apples', 'oranges']"
     },
     "execution_count": 51,
     "metadata": {},
     "output_type": "execute_result"
    }
   ],
   "source": [
    "fruits"
   ],
   "metadata": {
    "collapsed": false,
    "ExecuteTime": {
     "end_time": "2024-07-01T23:31:52.850629Z",
     "start_time": "2024-07-01T23:31:52.782576Z"
    }
   },
   "id": "e6a2962b7780797e"
  },
  {
   "cell_type": "code",
   "execution_count": 52,
   "outputs": [],
   "source": [
    "fruits.reverse()"
   ],
   "metadata": {
    "collapsed": false,
    "ExecuteTime": {
     "end_time": "2024-07-01T23:31:56.913877Z",
     "start_time": "2024-07-01T23:31:56.903684Z"
    }
   },
   "id": "1d54a586cf820aa2"
  },
  {
   "cell_type": "code",
   "execution_count": 53,
   "outputs": [
    {
     "data": {
      "text/plain": "['oranges', 'apples', 'pears', 'grape']"
     },
     "execution_count": 53,
     "metadata": {},
     "output_type": "execute_result"
    }
   ],
   "source": [
    "fruits"
   ],
   "metadata": {
    "collapsed": false,
    "ExecuteTime": {
     "end_time": "2024-07-01T23:31:58.940239Z",
     "start_time": "2024-07-01T23:31:58.930543Z"
    }
   },
   "id": "2f5aacf76f3b3fbe"
  },
  {
   "cell_type": "code",
   "execution_count": null,
   "outputs": [],
   "source": [],
   "metadata": {
    "collapsed": false
   },
   "id": "4ae4d28cd25af6c7"
  }
 ],
 "metadata": {
  "kernelspec": {
   "display_name": "Python 3",
   "language": "python",
   "name": "python3"
  },
  "language_info": {
   "codemirror_mode": {
    "name": "ipython",
    "version": 2
   },
   "file_extension": ".py",
   "mimetype": "text/x-python",
   "name": "python",
   "nbconvert_exporter": "python",
   "pygments_lexer": "ipython2",
   "version": "2.7.6"
  }
 },
 "nbformat": 4,
 "nbformat_minor": 5
}
