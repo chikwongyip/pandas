{
 "cells": [
  {
   "cell_type": "markdown",
   "id": "443f0d9401b1598",
   "metadata": {
    "collapsed": false
   },
   "source": [
    "import necessary libraries\n"
   ]
  },
  {
   "cell_type": "markdown",
   "id": "c810ca78380f1f56",
   "metadata": {
    "collapsed": false
   },
   "source": [
    "conda create --name chiPandas"
   ]
  },
  {
   "cell_type": "markdown",
   "id": "c7098e304f73414e",
   "metadata": {
    "collapsed": false
   },
   "source": [
    "conda activate chiPandas\n"
   ]
  },
  {
   "cell_type": "markdown",
   "id": "2892bfdde3cb4457",
   "metadata": {
    "collapsed": false
   },
   "source": [
    "pip3 install -r requirement.txt"
   ]
  },
  {
   "cell_type": "markdown",
   "id": "41e28ccc",
   "metadata": {},
   "source": [
    "CondaError: Run 'conda init' before 'conda activate'"
   ]
  },
  {
   "cell_type": "markdown",
   "id": "030a2387",
   "metadata": {},
   "source": [
    "solution:\n",
    "conda init bash\n",
    "conda activate chiPandas"
   ]
  },
  {
   "cell_type": "code",
   "execution_count": 2,
   "id": "004633f0",
   "metadata": {
    "ExecuteTime": {
     "end_time": "2024-05-27T22:33:57.213197Z",
     "start_time": "2024-05-27T22:33:55.155118Z"
    }
   },
   "outputs": [
    {
     "data": {
      "text/plain": "   order_id  quantity                              item_name  \\\n0         1         1           Chips and Fresh Tomato Salsa   \n1         1         1                                   Izze   \n2         1         1                       Nantucket Nectar   \n3         1         1  Chips and Tomatillo-Green Chili Salsa   \n4         2         2                           Chicken Bowl   \n\n                                  choice_description item_price  \n0                                                NaN     $2.39   \n1                                       [Clementine]     $3.39   \n2                                            [Apple]     $3.39   \n3                                                NaN     $2.39   \n4  [Tomatillo-Red Chili Salsa (Hot), [Black Beans...    $16.98   ",
      "text/html": "<div>\n<style scoped>\n    .dataframe tbody tr th:only-of-type {\n        vertical-align: middle;\n    }\n\n    .dataframe tbody tr th {\n        vertical-align: top;\n    }\n\n    .dataframe thead th {\n        text-align: right;\n    }\n</style>\n<table border=\"1\" class=\"dataframe\">\n  <thead>\n    <tr style=\"text-align: right;\">\n      <th></th>\n      <th>order_id</th>\n      <th>quantity</th>\n      <th>item_name</th>\n      <th>choice_description</th>\n      <th>item_price</th>\n    </tr>\n  </thead>\n  <tbody>\n    <tr>\n      <th>0</th>\n      <td>1</td>\n      <td>1</td>\n      <td>Chips and Fresh Tomato Salsa</td>\n      <td>NaN</td>\n      <td>$2.39</td>\n    </tr>\n    <tr>\n      <th>1</th>\n      <td>1</td>\n      <td>1</td>\n      <td>Izze</td>\n      <td>[Clementine]</td>\n      <td>$3.39</td>\n    </tr>\n    <tr>\n      <th>2</th>\n      <td>1</td>\n      <td>1</td>\n      <td>Nantucket Nectar</td>\n      <td>[Apple]</td>\n      <td>$3.39</td>\n    </tr>\n    <tr>\n      <th>3</th>\n      <td>1</td>\n      <td>1</td>\n      <td>Chips and Tomatillo-Green Chili Salsa</td>\n      <td>NaN</td>\n      <td>$2.39</td>\n    </tr>\n    <tr>\n      <th>4</th>\n      <td>2</td>\n      <td>2</td>\n      <td>Chicken Bowl</td>\n      <td>[Tomatillo-Red Chili Salsa (Hot), [Black Beans...</td>\n      <td>$16.98</td>\n    </tr>\n  </tbody>\n</table>\n</div>"
     },
     "execution_count": 2,
     "metadata": {},
     "output_type": "execute_result"
    }
   ],
   "source": [
    "import pandas as pd\n",
    "url = 'https://raw.githubusercontent.com/justmarkham/DAT8/master/data/chipotle.tsv'\n",
    "chipo = pd.read_csv(url,sep='\\t')\n",
    "chipo.head()\n"
   ]
  },
  {
   "cell_type": "code",
   "execution_count": 3,
   "id": "38ed96dc",
   "metadata": {
    "ExecuteTime": {
     "end_time": "2024-05-27T22:33:57.215393Z",
     "start_time": "2024-05-27T22:33:57.198416Z"
    }
   },
   "outputs": [
    {
     "data": {
      "text/plain": "   order_id  quantity                              item_name  \\\n0         1         1           Chips and Fresh Tomato Salsa   \n1         1         1                                   Izze   \n2         1         1                       Nantucket Nectar   \n3         1         1  Chips and Tomatillo-Green Chili Salsa   \n4         2         2                           Chicken Bowl   \n5         3         1                           Chicken Bowl   \n6         3         1                          Side of Chips   \n7         4         1                          Steak Burrito   \n8         4         1                       Steak Soft Tacos   \n9         5         1                          Steak Burrito   \n\n                                  choice_description item_price  \n0                                                NaN     $2.39   \n1                                       [Clementine]     $3.39   \n2                                            [Apple]     $3.39   \n3                                                NaN     $2.39   \n4  [Tomatillo-Red Chili Salsa (Hot), [Black Beans...    $16.98   \n5  [Fresh Tomato Salsa (Mild), [Rice, Cheese, Sou...    $10.98   \n6                                                NaN     $1.69   \n7  [Tomatillo Red Chili Salsa, [Fajita Vegetables...    $11.75   \n8  [Tomatillo Green Chili Salsa, [Pinto Beans, Ch...     $9.25   \n9  [Fresh Tomato Salsa, [Rice, Black Beans, Pinto...     $9.25   ",
      "text/html": "<div>\n<style scoped>\n    .dataframe tbody tr th:only-of-type {\n        vertical-align: middle;\n    }\n\n    .dataframe tbody tr th {\n        vertical-align: top;\n    }\n\n    .dataframe thead th {\n        text-align: right;\n    }\n</style>\n<table border=\"1\" class=\"dataframe\">\n  <thead>\n    <tr style=\"text-align: right;\">\n      <th></th>\n      <th>order_id</th>\n      <th>quantity</th>\n      <th>item_name</th>\n      <th>choice_description</th>\n      <th>item_price</th>\n    </tr>\n  </thead>\n  <tbody>\n    <tr>\n      <th>0</th>\n      <td>1</td>\n      <td>1</td>\n      <td>Chips and Fresh Tomato Salsa</td>\n      <td>NaN</td>\n      <td>$2.39</td>\n    </tr>\n    <tr>\n      <th>1</th>\n      <td>1</td>\n      <td>1</td>\n      <td>Izze</td>\n      <td>[Clementine]</td>\n      <td>$3.39</td>\n    </tr>\n    <tr>\n      <th>2</th>\n      <td>1</td>\n      <td>1</td>\n      <td>Nantucket Nectar</td>\n      <td>[Apple]</td>\n      <td>$3.39</td>\n    </tr>\n    <tr>\n      <th>3</th>\n      <td>1</td>\n      <td>1</td>\n      <td>Chips and Tomatillo-Green Chili Salsa</td>\n      <td>NaN</td>\n      <td>$2.39</td>\n    </tr>\n    <tr>\n      <th>4</th>\n      <td>2</td>\n      <td>2</td>\n      <td>Chicken Bowl</td>\n      <td>[Tomatillo-Red Chili Salsa (Hot), [Black Beans...</td>\n      <td>$16.98</td>\n    </tr>\n    <tr>\n      <th>5</th>\n      <td>3</td>\n      <td>1</td>\n      <td>Chicken Bowl</td>\n      <td>[Fresh Tomato Salsa (Mild), [Rice, Cheese, Sou...</td>\n      <td>$10.98</td>\n    </tr>\n    <tr>\n      <th>6</th>\n      <td>3</td>\n      <td>1</td>\n      <td>Side of Chips</td>\n      <td>NaN</td>\n      <td>$1.69</td>\n    </tr>\n    <tr>\n      <th>7</th>\n      <td>4</td>\n      <td>1</td>\n      <td>Steak Burrito</td>\n      <td>[Tomatillo Red Chili Salsa, [Fajita Vegetables...</td>\n      <td>$11.75</td>\n    </tr>\n    <tr>\n      <th>8</th>\n      <td>4</td>\n      <td>1</td>\n      <td>Steak Soft Tacos</td>\n      <td>[Tomatillo Green Chili Salsa, [Pinto Beans, Ch...</td>\n      <td>$9.25</td>\n    </tr>\n    <tr>\n      <th>9</th>\n      <td>5</td>\n      <td>1</td>\n      <td>Steak Burrito</td>\n      <td>[Fresh Tomato Salsa, [Rice, Black Beans, Pinto...</td>\n      <td>$9.25</td>\n    </tr>\n  </tbody>\n</table>\n</div>"
     },
     "execution_count": 3,
     "metadata": {},
     "output_type": "execute_result"
    }
   ],
   "source": [
    "chipo.head(10)"
   ]
  },
  {
   "cell_type": "code",
   "execution_count": 4,
   "id": "5f24abd3",
   "metadata": {
    "ExecuteTime": {
     "end_time": "2024-05-27T22:33:57.216810Z",
     "start_time": "2024-05-27T22:33:57.203704Z"
    }
   },
   "outputs": [
    {
     "data": {
      "text/plain": "      order_id  quantity            item_name  \\\n4602      1827         1     Barbacoa Burrito   \n4603      1827         1     Barbacoa Burrito   \n4604      1828         1         Chicken Bowl   \n4605      1828         1  Chips and Guacamole   \n4606      1828         1    Canned Soft Drink   \n4607      1829         1        Steak Burrito   \n4608      1829         1       Veggie Burrito   \n4609      1829         1    Canned Soft Drink   \n4610      1830         1        Steak Burrito   \n4611      1830         1       Veggie Burrito   \n4612      1831         1        Carnitas Bowl   \n4613      1831         1                Chips   \n4614      1831         1        Bottled Water   \n4615      1832         1   Chicken Soft Tacos   \n4616      1832         1  Chips and Guacamole   \n4617      1833         1        Steak Burrito   \n4618      1833         1        Steak Burrito   \n4619      1834         1   Chicken Salad Bowl   \n4620      1834         1   Chicken Salad Bowl   \n4621      1834         1   Chicken Salad Bowl   \n\n                                     choice_description item_price  \n4602                      [Tomatillo Green Chili Salsa]     $9.25   \n4603                      [Tomatillo Green Chili Salsa]     $9.25   \n4604  [Fresh Tomato Salsa, [Rice, Black Beans, Chees...     $8.75   \n4605                                                NaN     $4.45   \n4606                                             [Coke]     $1.25   \n4607  [Tomatillo Green Chili Salsa, [Rice, Cheese, S...    $11.75   \n4608  [Tomatillo Red Chili Salsa, [Fajita Vegetables...    $11.25   \n4609                                           [Sprite]     $1.25   \n4610  [Fresh Tomato Salsa, [Rice, Sour Cream, Cheese...    $11.75   \n4611  [Tomatillo Green Chili Salsa, [Rice, Fajita Ve...    $11.25   \n4612  [Fresh Tomato Salsa, [Fajita Vegetables, Rice,...     $9.25   \n4613                                                NaN     $2.15   \n4614                                                NaN     $1.50   \n4615   [Fresh Tomato Salsa, [Rice, Cheese, Sour Cream]]     $8.75   \n4616                                                NaN     $4.45   \n4617  [Fresh Tomato Salsa, [Rice, Black Beans, Sour ...    $11.75   \n4618  [Fresh Tomato Salsa, [Rice, Sour Cream, Cheese...    $11.75   \n4619  [Fresh Tomato Salsa, [Fajita Vegetables, Pinto...    $11.25   \n4620  [Fresh Tomato Salsa, [Fajita Vegetables, Lettu...     $8.75   \n4621  [Fresh Tomato Salsa, [Fajita Vegetables, Pinto...     $8.75   ",
      "text/html": "<div>\n<style scoped>\n    .dataframe tbody tr th:only-of-type {\n        vertical-align: middle;\n    }\n\n    .dataframe tbody tr th {\n        vertical-align: top;\n    }\n\n    .dataframe thead th {\n        text-align: right;\n    }\n</style>\n<table border=\"1\" class=\"dataframe\">\n  <thead>\n    <tr style=\"text-align: right;\">\n      <th></th>\n      <th>order_id</th>\n      <th>quantity</th>\n      <th>item_name</th>\n      <th>choice_description</th>\n      <th>item_price</th>\n    </tr>\n  </thead>\n  <tbody>\n    <tr>\n      <th>4602</th>\n      <td>1827</td>\n      <td>1</td>\n      <td>Barbacoa Burrito</td>\n      <td>[Tomatillo Green Chili Salsa]</td>\n      <td>$9.25</td>\n    </tr>\n    <tr>\n      <th>4603</th>\n      <td>1827</td>\n      <td>1</td>\n      <td>Barbacoa Burrito</td>\n      <td>[Tomatillo Green Chili Salsa]</td>\n      <td>$9.25</td>\n    </tr>\n    <tr>\n      <th>4604</th>\n      <td>1828</td>\n      <td>1</td>\n      <td>Chicken Bowl</td>\n      <td>[Fresh Tomato Salsa, [Rice, Black Beans, Chees...</td>\n      <td>$8.75</td>\n    </tr>\n    <tr>\n      <th>4605</th>\n      <td>1828</td>\n      <td>1</td>\n      <td>Chips and Guacamole</td>\n      <td>NaN</td>\n      <td>$4.45</td>\n    </tr>\n    <tr>\n      <th>4606</th>\n      <td>1828</td>\n      <td>1</td>\n      <td>Canned Soft Drink</td>\n      <td>[Coke]</td>\n      <td>$1.25</td>\n    </tr>\n    <tr>\n      <th>4607</th>\n      <td>1829</td>\n      <td>1</td>\n      <td>Steak Burrito</td>\n      <td>[Tomatillo Green Chili Salsa, [Rice, Cheese, S...</td>\n      <td>$11.75</td>\n    </tr>\n    <tr>\n      <th>4608</th>\n      <td>1829</td>\n      <td>1</td>\n      <td>Veggie Burrito</td>\n      <td>[Tomatillo Red Chili Salsa, [Fajita Vegetables...</td>\n      <td>$11.25</td>\n    </tr>\n    <tr>\n      <th>4609</th>\n      <td>1829</td>\n      <td>1</td>\n      <td>Canned Soft Drink</td>\n      <td>[Sprite]</td>\n      <td>$1.25</td>\n    </tr>\n    <tr>\n      <th>4610</th>\n      <td>1830</td>\n      <td>1</td>\n      <td>Steak Burrito</td>\n      <td>[Fresh Tomato Salsa, [Rice, Sour Cream, Cheese...</td>\n      <td>$11.75</td>\n    </tr>\n    <tr>\n      <th>4611</th>\n      <td>1830</td>\n      <td>1</td>\n      <td>Veggie Burrito</td>\n      <td>[Tomatillo Green Chili Salsa, [Rice, Fajita Ve...</td>\n      <td>$11.25</td>\n    </tr>\n    <tr>\n      <th>4612</th>\n      <td>1831</td>\n      <td>1</td>\n      <td>Carnitas Bowl</td>\n      <td>[Fresh Tomato Salsa, [Fajita Vegetables, Rice,...</td>\n      <td>$9.25</td>\n    </tr>\n    <tr>\n      <th>4613</th>\n      <td>1831</td>\n      <td>1</td>\n      <td>Chips</td>\n      <td>NaN</td>\n      <td>$2.15</td>\n    </tr>\n    <tr>\n      <th>4614</th>\n      <td>1831</td>\n      <td>1</td>\n      <td>Bottled Water</td>\n      <td>NaN</td>\n      <td>$1.50</td>\n    </tr>\n    <tr>\n      <th>4615</th>\n      <td>1832</td>\n      <td>1</td>\n      <td>Chicken Soft Tacos</td>\n      <td>[Fresh Tomato Salsa, [Rice, Cheese, Sour Cream]]</td>\n      <td>$8.75</td>\n    </tr>\n    <tr>\n      <th>4616</th>\n      <td>1832</td>\n      <td>1</td>\n      <td>Chips and Guacamole</td>\n      <td>NaN</td>\n      <td>$4.45</td>\n    </tr>\n    <tr>\n      <th>4617</th>\n      <td>1833</td>\n      <td>1</td>\n      <td>Steak Burrito</td>\n      <td>[Fresh Tomato Salsa, [Rice, Black Beans, Sour ...</td>\n      <td>$11.75</td>\n    </tr>\n    <tr>\n      <th>4618</th>\n      <td>1833</td>\n      <td>1</td>\n      <td>Steak Burrito</td>\n      <td>[Fresh Tomato Salsa, [Rice, Sour Cream, Cheese...</td>\n      <td>$11.75</td>\n    </tr>\n    <tr>\n      <th>4619</th>\n      <td>1834</td>\n      <td>1</td>\n      <td>Chicken Salad Bowl</td>\n      <td>[Fresh Tomato Salsa, [Fajita Vegetables, Pinto...</td>\n      <td>$11.25</td>\n    </tr>\n    <tr>\n      <th>4620</th>\n      <td>1834</td>\n      <td>1</td>\n      <td>Chicken Salad Bowl</td>\n      <td>[Fresh Tomato Salsa, [Fajita Vegetables, Lettu...</td>\n      <td>$8.75</td>\n    </tr>\n    <tr>\n      <th>4621</th>\n      <td>1834</td>\n      <td>1</td>\n      <td>Chicken Salad Bowl</td>\n      <td>[Fresh Tomato Salsa, [Fajita Vegetables, Pinto...</td>\n      <td>$8.75</td>\n    </tr>\n  </tbody>\n</table>\n</div>"
     },
     "execution_count": 4,
     "metadata": {},
     "output_type": "execute_result"
    }
   ],
   "source": [
    "chipo.tail(20)"
   ]
  },
  {
   "cell_type": "markdown",
   "id": "eace3c47",
   "metadata": {},
   "source": [
    "csv 文件中有多少条数据"
   ]
  },
  {
   "cell_type": "code",
   "execution_count": 5,
   "id": "fdfcd0eb",
   "metadata": {
    "ExecuteTime": {
     "end_time": "2024-05-27T22:33:57.217362Z",
     "start_time": "2024-05-27T22:33:57.207491Z"
    }
   },
   "outputs": [
    {
     "data": {
      "text/plain": "(4622, 5)"
     },
     "execution_count": 5,
     "metadata": {},
     "output_type": "execute_result"
    }
   ],
   "source": [
    "chipo.shape"
   ]
  },
  {
   "cell_type": "code",
   "execution_count": 6,
   "id": "ab4bc03a",
   "metadata": {
    "ExecuteTime": {
     "end_time": "2024-05-27T22:33:57.238450Z",
     "start_time": "2024-05-27T22:33:57.212965Z"
    }
   },
   "outputs": [
    {
     "name": "stdout",
     "output_type": "stream",
     "text": [
      "<class 'pandas.core.frame.DataFrame'>\n",
      "RangeIndex: 4622 entries, 0 to 4621\n",
      "Data columns (total 5 columns):\n",
      " #   Column              Non-Null Count  Dtype \n",
      "---  ------              --------------  ----- \n",
      " 0   order_id            4622 non-null   int64 \n",
      " 1   quantity            4622 non-null   int64 \n",
      " 2   item_name           4622 non-null   object\n",
      " 3   choice_description  3376 non-null   object\n",
      " 4   item_price          4622 non-null   object\n",
      "dtypes: int64(2), object(3)\n",
      "memory usage: 180.7+ KB\n"
     ]
    }
   ],
   "source": [
    "chipo.info()"
   ]
  },
  {
   "cell_type": "markdown",
   "id": "bf3a951c",
   "metadata": {},
   "source": [
    "chipo 有多少列？"
   ]
  },
  {
   "cell_type": "code",
   "execution_count": 7,
   "id": "6eef00b9",
   "metadata": {
    "ExecuteTime": {
     "end_time": "2024-05-27T22:33:57.239025Z",
     "start_time": "2024-05-27T22:33:57.221461Z"
    }
   },
   "outputs": [
    {
     "data": {
      "text/plain": "5"
     },
     "execution_count": 7,
     "metadata": {},
     "output_type": "execute_result"
    }
   ],
   "source": [
    "chipo.shape[1]"
   ]
  },
  {
   "cell_type": "markdown",
   "id": "66ed01a3",
   "metadata": {},
   "source": [
    "打印chipo的列名"
   ]
  },
  {
   "cell_type": "code",
   "execution_count": 8,
   "id": "8bc5e98d",
   "metadata": {
    "ExecuteTime": {
     "end_time": "2024-05-27T22:33:57.239260Z",
     "start_time": "2024-05-27T22:33:57.224228Z"
    }
   },
   "outputs": [
    {
     "data": {
      "text/plain": "Index(['order_id', 'quantity', 'item_name', 'choice_description',\n       'item_price'],\n      dtype='object')"
     },
     "execution_count": 8,
     "metadata": {},
     "output_type": "execute_result"
    }
   ],
   "source": [
    "chipo.columns"
   ]
  },
  {
   "cell_type": "markdown",
   "id": "b0597d29",
   "metadata": {},
   "source": [
    "数据里面的index 是怎么样的"
   ]
  },
  {
   "cell_type": "code",
   "execution_count": 9,
   "id": "1d299dfe",
   "metadata": {
    "ExecuteTime": {
     "end_time": "2024-05-27T22:33:57.239587Z",
     "start_time": "2024-05-27T22:33:57.226887Z"
    }
   },
   "outputs": [
    {
     "data": {
      "text/plain": "RangeIndex(start=0, stop=4622, step=1)"
     },
     "execution_count": 9,
     "metadata": {},
     "output_type": "execute_result"
    }
   ],
   "source": [
    "chipo.index"
   ]
  },
  {
   "cell_type": "markdown",
   "id": "cd3000cd",
   "metadata": {},
   "source": [
    "哪个订单最多内容"
   ]
  },
  {
   "cell_type": "code",
   "execution_count": 10,
   "id": "3cb68617",
   "metadata": {
    "ExecuteTime": {
     "end_time": "2024-05-27T22:33:57.289738Z",
     "start_time": "2024-05-27T22:33:57.230122Z"
    }
   },
   "outputs": [
    {
     "data": {
      "text/plain": "       item_name  count\n17  Chicken Bowl    726",
      "text/html": "<div>\n<style scoped>\n    .dataframe tbody tr th:only-of-type {\n        vertical-align: middle;\n    }\n\n    .dataframe tbody tr th {\n        vertical-align: top;\n    }\n\n    .dataframe thead th {\n        text-align: right;\n    }\n</style>\n<table border=\"1\" class=\"dataframe\">\n  <thead>\n    <tr style=\"text-align: right;\">\n      <th></th>\n      <th>item_name</th>\n      <th>count</th>\n    </tr>\n  </thead>\n  <tbody>\n    <tr>\n      <th>17</th>\n      <td>Chicken Bowl</td>\n      <td>726</td>\n    </tr>\n  </tbody>\n</table>\n</div>"
     },
     "execution_count": 10,
     "metadata": {},
     "output_type": "execute_result"
    }
   ],
   "source": [
    "group_1 = chipo.groupby('item_name').size().reset_index(name='count').sort_values(by='count',ascending=False).head(1)\n",
    "group_1\n"
   ]
  },
  {
   "cell_type": "markdown",
   "id": "22bc9bda",
   "metadata": {},
   "source": [
    "最多的订单的choice_description是什么"
   ]
  },
  {
   "cell_type": "code",
   "execution_count": 23,
   "outputs": [
    {
     "data": {
      "text/plain": "<pandas.core.groupby.generic.DataFrameGroupBy object at 0x12ce97950>"
     },
     "execution_count": 23,
     "metadata": {},
     "output_type": "execute_result"
    }
   ],
   "source": [
    "group_2 = chipo.groupby(['item_name','choice_description'])\n",
    "group_2"
   ],
   "metadata": {
    "collapsed": false,
    "ExecuteTime": {
     "end_time": "2024-05-27T22:48:13.269825Z",
     "start_time": "2024-05-27T22:48:13.256715Z"
    }
   },
   "id": "9b0a160cbe2083cb"
  },
  {
   "cell_type": "code",
   "execution_count": 25,
   "outputs": [
    {
     "data": {
      "text/plain": "4972"
     },
     "execution_count": 25,
     "metadata": {},
     "output_type": "execute_result"
    }
   ],
   "source": [
    "chipo.quantity.sum()"
   ],
   "metadata": {
    "collapsed": false,
    "ExecuteTime": {
     "end_time": "2024-05-27T22:49:53.816534Z",
     "start_time": "2024-05-27T22:49:53.785280Z"
    }
   },
   "id": "c3a04352308ce392"
  },
  {
   "cell_type": "code",
   "execution_count": 26,
   "outputs": [
    {
     "data": {
      "text/plain": "      order_id  quantity                              item_name  \\\n0            1         1           Chips and Fresh Tomato Salsa   \n1            1         1                                   Izze   \n2            1         1                       Nantucket Nectar   \n3            1         1  Chips and Tomatillo-Green Chili Salsa   \n4            2         2                           Chicken Bowl   \n...        ...       ...                                    ...   \n4617      1833         1                          Steak Burrito   \n4618      1833         1                          Steak Burrito   \n4619      1834         1                     Chicken Salad Bowl   \n4620      1834         1                     Chicken Salad Bowl   \n4621      1834         1                     Chicken Salad Bowl   \n\n                                     choice_description item_price  \n0                                                   NaN     $2.39   \n1                                          [Clementine]     $3.39   \n2                                               [Apple]     $3.39   \n3                                                   NaN     $2.39   \n4     [Tomatillo-Red Chili Salsa (Hot), [Black Beans...    $16.98   \n...                                                 ...        ...  \n4617  [Fresh Tomato Salsa, [Rice, Black Beans, Sour ...    $11.75   \n4618  [Fresh Tomato Salsa, [Rice, Sour Cream, Cheese...    $11.75   \n4619  [Fresh Tomato Salsa, [Fajita Vegetables, Pinto...    $11.25   \n4620  [Fresh Tomato Salsa, [Fajita Vegetables, Lettu...     $8.75   \n4621  [Fresh Tomato Salsa, [Fajita Vegetables, Pinto...     $8.75   \n\n[4622 rows x 5 columns]",
      "text/html": "<div>\n<style scoped>\n    .dataframe tbody tr th:only-of-type {\n        vertical-align: middle;\n    }\n\n    .dataframe tbody tr th {\n        vertical-align: top;\n    }\n\n    .dataframe thead th {\n        text-align: right;\n    }\n</style>\n<table border=\"1\" class=\"dataframe\">\n  <thead>\n    <tr style=\"text-align: right;\">\n      <th></th>\n      <th>order_id</th>\n      <th>quantity</th>\n      <th>item_name</th>\n      <th>choice_description</th>\n      <th>item_price</th>\n    </tr>\n  </thead>\n  <tbody>\n    <tr>\n      <th>0</th>\n      <td>1</td>\n      <td>1</td>\n      <td>Chips and Fresh Tomato Salsa</td>\n      <td>NaN</td>\n      <td>$2.39</td>\n    </tr>\n    <tr>\n      <th>1</th>\n      <td>1</td>\n      <td>1</td>\n      <td>Izze</td>\n      <td>[Clementine]</td>\n      <td>$3.39</td>\n    </tr>\n    <tr>\n      <th>2</th>\n      <td>1</td>\n      <td>1</td>\n      <td>Nantucket Nectar</td>\n      <td>[Apple]</td>\n      <td>$3.39</td>\n    </tr>\n    <tr>\n      <th>3</th>\n      <td>1</td>\n      <td>1</td>\n      <td>Chips and Tomatillo-Green Chili Salsa</td>\n      <td>NaN</td>\n      <td>$2.39</td>\n    </tr>\n    <tr>\n      <th>4</th>\n      <td>2</td>\n      <td>2</td>\n      <td>Chicken Bowl</td>\n      <td>[Tomatillo-Red Chili Salsa (Hot), [Black Beans...</td>\n      <td>$16.98</td>\n    </tr>\n    <tr>\n      <th>...</th>\n      <td>...</td>\n      <td>...</td>\n      <td>...</td>\n      <td>...</td>\n      <td>...</td>\n    </tr>\n    <tr>\n      <th>4617</th>\n      <td>1833</td>\n      <td>1</td>\n      <td>Steak Burrito</td>\n      <td>[Fresh Tomato Salsa, [Rice, Black Beans, Sour ...</td>\n      <td>$11.75</td>\n    </tr>\n    <tr>\n      <th>4618</th>\n      <td>1833</td>\n      <td>1</td>\n      <td>Steak Burrito</td>\n      <td>[Fresh Tomato Salsa, [Rice, Sour Cream, Cheese...</td>\n      <td>$11.75</td>\n    </tr>\n    <tr>\n      <th>4619</th>\n      <td>1834</td>\n      <td>1</td>\n      <td>Chicken Salad Bowl</td>\n      <td>[Fresh Tomato Salsa, [Fajita Vegetables, Pinto...</td>\n      <td>$11.25</td>\n    </tr>\n    <tr>\n      <th>4620</th>\n      <td>1834</td>\n      <td>1</td>\n      <td>Chicken Salad Bowl</td>\n      <td>[Fresh Tomato Salsa, [Fajita Vegetables, Lettu...</td>\n      <td>$8.75</td>\n    </tr>\n    <tr>\n      <th>4621</th>\n      <td>1834</td>\n      <td>1</td>\n      <td>Chicken Salad Bowl</td>\n      <td>[Fresh Tomato Salsa, [Fajita Vegetables, Pinto...</td>\n      <td>$8.75</td>\n    </tr>\n  </tbody>\n</table>\n<p>4622 rows × 5 columns</p>\n</div>"
     },
     "execution_count": 26,
     "metadata": {},
     "output_type": "execute_result"
    }
   ],
   "source": [
    "chipo"
   ],
   "metadata": {
    "collapsed": false,
    "ExecuteTime": {
     "end_time": "2024-05-27T22:50:08.552772Z",
     "start_time": "2024-05-27T22:50:08.545517Z"
    }
   },
   "id": "10611b31a65f2304"
  },
  {
   "cell_type": "code",
   "execution_count": 27,
   "outputs": [
    {
     "data": {
      "text/plain": "dtype('O')"
     },
     "execution_count": 27,
     "metadata": {},
     "output_type": "execute_result"
    }
   ],
   "source": [
    "chipo.item_price.dtype"
   ],
   "metadata": {
    "collapsed": false,
    "ExecuteTime": {
     "end_time": "2024-05-27T22:53:44.403010Z",
     "start_time": "2024-05-27T22:53:44.356824Z"
    }
   },
   "id": "3ba1c229b34187b9"
  },
  {
   "cell_type": "code",
   "execution_count": null,
   "outputs": [],
   "source": [],
   "metadata": {
    "collapsed": false
   },
   "id": "e2128bd8464c7a7c"
  }
 ],
 "metadata": {
  "kernelspec": {
   "display_name": "Python 3",
   "language": "python",
   "name": "python3"
  },
  "language_info": {
   "codemirror_mode": {
    "name": "ipython",
    "version": 3
   },
   "file_extension": ".py",
   "mimetype": "text/x-python",
   "name": "python",
   "nbconvert_exporter": "python",
   "pygments_lexer": "ipython3",
   "version": "3.12.3"
  }
 },
 "nbformat": 4,
 "nbformat_minor": 5
}
