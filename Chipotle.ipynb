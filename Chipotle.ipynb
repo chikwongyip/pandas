{
 "cells": [
  {
   "cell_type": "markdown",
   "source": [
    "import necessary libraries\n"
   ],
   "metadata": {
    "collapsed": false
   },
   "id": "443f0d9401b1598"
  },
  {
   "cell_type": "markdown",
   "source": [
    "conda create --name chiPandas"
   ],
   "metadata": {
    "collapsed": false
   },
   "id": "c810ca78380f1f56"
  },
  {
   "cell_type": "markdown",
   "source": [
    "conda activate chiPandas\n"
   ],
   "metadata": {
    "collapsed": false
   },
   "id": "c7098e304f73414e"
  },
  {
   "cell_type": "markdown",
   "source": [
    "pip3 install -r requirement.txt"
   ],
   "metadata": {
    "collapsed": false
   },
   "id": "2892bfdde3cb4457"
  }
 ],
 "metadata": {
  "kernelspec": {
   "display_name": "Python 3",
   "language": "python",
   "name": "python3"
  },
  "language_info": {
   "codemirror_mode": {
    "name": "ipython",
    "version": 2
   },
   "file_extension": ".py",
   "mimetype": "text/x-python",
   "name": "python",
   "nbconvert_exporter": "python",
   "pygments_lexer": "ipython2",
   "version": "2.7.6"
  }
 },
 "nbformat": 4,
 "nbformat_minor": 5
}
