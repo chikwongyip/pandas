{
 "cells": [
  {
   "cell_type": "markdown",
   "source": [
    "go to https://www.kaggle.com/openfoodfacts/world-food-facts/data\n",
    "download the dataset to your computer and unzip it"
   ],
   "metadata": {
    "collapsed": false
   },
   "id": "40af3295eefb91be"
  },
  {
   "cell_type": "code",
   "execution_count": 2,
   "outputs": [],
   "source": [
    "import pandas as pd\n",
    "import numpy as np\n",
    "import os\n",
    "# pd.read_csv('data/en.openfoodfacts.org.products.tsv')"
   ],
   "metadata": {
    "collapsed": false,
    "ExecuteTime": {
     "end_time": "2024-06-03T22:45:29.391960Z",
     "start_time": "2024-06-03T22:45:28.910776Z"
    }
   },
   "id": "f1c237608efc8cc9"
  },
  {
   "cell_type": "markdown",
   "source": [
    "获取当前目录"
   ],
   "metadata": {
    "collapsed": false
   },
   "id": "1d81a75e6c17d2a4"
  },
  {
   "cell_type": "code",
   "execution_count": 7,
   "outputs": [
    {
     "data": {
      "text/plain": "'/Users/chikwongyip/Code/pandas/world food facts'"
     },
     "execution_count": 7,
     "metadata": {},
     "output_type": "execute_result"
    }
   ],
   "source": [
    "os.getcwd()"
   ],
   "metadata": {
    "collapsed": false,
    "ExecuteTime": {
     "end_time": "2024-06-03T22:48:03.231094Z",
     "start_time": "2024-06-03T22:48:03.220920Z"
    }
   },
   "id": "d3c1aef192b41c30"
  },
  {
   "cell_type": "code",
   "execution_count": 9,
   "outputs": [
    {
     "ename": "ParserError",
     "evalue": "Error tokenizing data. C error: Expected 34 fields in line 3, saw 37\n",
     "output_type": "error",
     "traceback": [
      "\u001B[0;31m---------------------------------------------------------------------------\u001B[0m",
      "\u001B[0;31mParserError\u001B[0m                               Traceback (most recent call last)",
      "Cell \u001B[0;32mIn[9], line 1\u001B[0m\n\u001B[0;32m----> 1\u001B[0m pd\u001B[38;5;241m.\u001B[39mread_csv(\u001B[38;5;124m'\u001B[39m\u001B[38;5;124m/Users/chikwongyip/Code/pandas/data/en.openfoodfacts.org.products.tsv\u001B[39m\u001B[38;5;124m'\u001B[39m)\n",
      "File \u001B[0;32m~/anaconda3/lib/python3.11/site-packages/pandas/util/_decorators.py:211\u001B[0m, in \u001B[0;36mdeprecate_kwarg.<locals>._deprecate_kwarg.<locals>.wrapper\u001B[0;34m(*args, **kwargs)\u001B[0m\n\u001B[1;32m    209\u001B[0m     \u001B[38;5;28;01melse\u001B[39;00m:\n\u001B[1;32m    210\u001B[0m         kwargs[new_arg_name] \u001B[38;5;241m=\u001B[39m new_arg_value\n\u001B[0;32m--> 211\u001B[0m \u001B[38;5;28;01mreturn\u001B[39;00m func(\u001B[38;5;241m*\u001B[39margs, \u001B[38;5;241m*\u001B[39m\u001B[38;5;241m*\u001B[39mkwargs)\n",
      "File \u001B[0;32m~/anaconda3/lib/python3.11/site-packages/pandas/util/_decorators.py:331\u001B[0m, in \u001B[0;36mdeprecate_nonkeyword_arguments.<locals>.decorate.<locals>.wrapper\u001B[0;34m(*args, **kwargs)\u001B[0m\n\u001B[1;32m    325\u001B[0m \u001B[38;5;28;01mif\u001B[39;00m \u001B[38;5;28mlen\u001B[39m(args) \u001B[38;5;241m>\u001B[39m num_allow_args:\n\u001B[1;32m    326\u001B[0m     warnings\u001B[38;5;241m.\u001B[39mwarn(\n\u001B[1;32m    327\u001B[0m         msg\u001B[38;5;241m.\u001B[39mformat(arguments\u001B[38;5;241m=\u001B[39m_format_argument_list(allow_args)),\n\u001B[1;32m    328\u001B[0m         \u001B[38;5;167;01mFutureWarning\u001B[39;00m,\n\u001B[1;32m    329\u001B[0m         stacklevel\u001B[38;5;241m=\u001B[39mfind_stack_level(),\n\u001B[1;32m    330\u001B[0m     )\n\u001B[0;32m--> 331\u001B[0m \u001B[38;5;28;01mreturn\u001B[39;00m func(\u001B[38;5;241m*\u001B[39margs, \u001B[38;5;241m*\u001B[39m\u001B[38;5;241m*\u001B[39mkwargs)\n",
      "File \u001B[0;32m~/anaconda3/lib/python3.11/site-packages/pandas/io/parsers/readers.py:950\u001B[0m, in \u001B[0;36mread_csv\u001B[0;34m(filepath_or_buffer, sep, delimiter, header, names, index_col, usecols, squeeze, prefix, mangle_dupe_cols, dtype, engine, converters, true_values, false_values, skipinitialspace, skiprows, skipfooter, nrows, na_values, keep_default_na, na_filter, verbose, skip_blank_lines, parse_dates, infer_datetime_format, keep_date_col, date_parser, dayfirst, cache_dates, iterator, chunksize, compression, thousands, decimal, lineterminator, quotechar, quoting, doublequote, escapechar, comment, encoding, encoding_errors, dialect, error_bad_lines, warn_bad_lines, on_bad_lines, delim_whitespace, low_memory, memory_map, float_precision, storage_options)\u001B[0m\n\u001B[1;32m    935\u001B[0m kwds_defaults \u001B[38;5;241m=\u001B[39m _refine_defaults_read(\n\u001B[1;32m    936\u001B[0m     dialect,\n\u001B[1;32m    937\u001B[0m     delimiter,\n\u001B[0;32m   (...)\u001B[0m\n\u001B[1;32m    946\u001B[0m     defaults\u001B[38;5;241m=\u001B[39m{\u001B[38;5;124m\"\u001B[39m\u001B[38;5;124mdelimiter\u001B[39m\u001B[38;5;124m\"\u001B[39m: \u001B[38;5;124m\"\u001B[39m\u001B[38;5;124m,\u001B[39m\u001B[38;5;124m\"\u001B[39m},\n\u001B[1;32m    947\u001B[0m )\n\u001B[1;32m    948\u001B[0m kwds\u001B[38;5;241m.\u001B[39mupdate(kwds_defaults)\n\u001B[0;32m--> 950\u001B[0m \u001B[38;5;28;01mreturn\u001B[39;00m _read(filepath_or_buffer, kwds)\n",
      "File \u001B[0;32m~/anaconda3/lib/python3.11/site-packages/pandas/io/parsers/readers.py:611\u001B[0m, in \u001B[0;36m_read\u001B[0;34m(filepath_or_buffer, kwds)\u001B[0m\n\u001B[1;32m    608\u001B[0m     \u001B[38;5;28;01mreturn\u001B[39;00m parser\n\u001B[1;32m    610\u001B[0m \u001B[38;5;28;01mwith\u001B[39;00m parser:\n\u001B[0;32m--> 611\u001B[0m     \u001B[38;5;28;01mreturn\u001B[39;00m parser\u001B[38;5;241m.\u001B[39mread(nrows)\n",
      "File \u001B[0;32m~/anaconda3/lib/python3.11/site-packages/pandas/io/parsers/readers.py:1778\u001B[0m, in \u001B[0;36mTextFileReader.read\u001B[0;34m(self, nrows)\u001B[0m\n\u001B[1;32m   1771\u001B[0m nrows \u001B[38;5;241m=\u001B[39m validate_integer(\u001B[38;5;124m\"\u001B[39m\u001B[38;5;124mnrows\u001B[39m\u001B[38;5;124m\"\u001B[39m, nrows)\n\u001B[1;32m   1772\u001B[0m \u001B[38;5;28;01mtry\u001B[39;00m:\n\u001B[1;32m   1773\u001B[0m     \u001B[38;5;66;03m# error: \"ParserBase\" has no attribute \"read\"\u001B[39;00m\n\u001B[1;32m   1774\u001B[0m     (\n\u001B[1;32m   1775\u001B[0m         index,\n\u001B[1;32m   1776\u001B[0m         columns,\n\u001B[1;32m   1777\u001B[0m         col_dict,\n\u001B[0;32m-> 1778\u001B[0m     ) \u001B[38;5;241m=\u001B[39m \u001B[38;5;28mself\u001B[39m\u001B[38;5;241m.\u001B[39m_engine\u001B[38;5;241m.\u001B[39mread(  \u001B[38;5;66;03m# type: ignore[attr-defined]\u001B[39;00m\n\u001B[1;32m   1779\u001B[0m         nrows\n\u001B[1;32m   1780\u001B[0m     )\n\u001B[1;32m   1781\u001B[0m \u001B[38;5;28;01mexcept\u001B[39;00m \u001B[38;5;167;01mException\u001B[39;00m:\n\u001B[1;32m   1782\u001B[0m     \u001B[38;5;28mself\u001B[39m\u001B[38;5;241m.\u001B[39mclose()\n",
      "File \u001B[0;32m~/anaconda3/lib/python3.11/site-packages/pandas/io/parsers/c_parser_wrapper.py:230\u001B[0m, in \u001B[0;36mCParserWrapper.read\u001B[0;34m(self, nrows)\u001B[0m\n\u001B[1;32m    228\u001B[0m \u001B[38;5;28;01mtry\u001B[39;00m:\n\u001B[1;32m    229\u001B[0m     \u001B[38;5;28;01mif\u001B[39;00m \u001B[38;5;28mself\u001B[39m\u001B[38;5;241m.\u001B[39mlow_memory:\n\u001B[0;32m--> 230\u001B[0m         chunks \u001B[38;5;241m=\u001B[39m \u001B[38;5;28mself\u001B[39m\u001B[38;5;241m.\u001B[39m_reader\u001B[38;5;241m.\u001B[39mread_low_memory(nrows)\n\u001B[1;32m    231\u001B[0m         \u001B[38;5;66;03m# destructive to chunks\u001B[39;00m\n\u001B[1;32m    232\u001B[0m         data \u001B[38;5;241m=\u001B[39m _concatenate_chunks(chunks)\n",
      "File \u001B[0;32m~/anaconda3/lib/python3.11/site-packages/pandas/_libs/parsers.pyx:808\u001B[0m, in \u001B[0;36mpandas._libs.parsers.TextReader.read_low_memory\u001B[0;34m()\u001B[0m\n",
      "File \u001B[0;32m~/anaconda3/lib/python3.11/site-packages/pandas/_libs/parsers.pyx:866\u001B[0m, in \u001B[0;36mpandas._libs.parsers.TextReader._read_rows\u001B[0;34m()\u001B[0m\n",
      "File \u001B[0;32m~/anaconda3/lib/python3.11/site-packages/pandas/_libs/parsers.pyx:852\u001B[0m, in \u001B[0;36mpandas._libs.parsers.TextReader._tokenize_rows\u001B[0;34m()\u001B[0m\n",
      "File \u001B[0;32m~/anaconda3/lib/python3.11/site-packages/pandas/_libs/parsers.pyx:1973\u001B[0m, in \u001B[0;36mpandas._libs.parsers.raise_parser_error\u001B[0;34m()\u001B[0m\n",
      "\u001B[0;31mParserError\u001B[0m: Error tokenizing data. C error: Expected 34 fields in line 3, saw 37\n"
     ]
    }
   ],
   "source": [
    "pd.read_csv('/Users/chikwongyip/Code/pandas/data/en.openfoodfacts.org.products.tsv')"
   ],
   "metadata": {
    "collapsed": false,
    "ExecuteTime": {
     "end_time": "2024-06-03T22:48:41.492433Z",
     "start_time": "2024-06-03T22:48:41.445154Z"
    }
   },
   "id": "1fceb9c778b87e27"
  },
  {
   "cell_type": "code",
   "execution_count": 11,
   "outputs": [
    {
     "name": "stderr",
     "output_type": "stream",
     "text": [
      "/var/folders/gd/8y9x6hsx68q9nj6yn7hklxbh0000gn/T/ipykernel_1158/2006892890.py:1: DtypeWarning: Columns (0,3,5,19,20,24,25,26,27,28,36,37,38,39,48) have mixed types. Specify dtype option on import or set low_memory=False.\n",
      "  food = pd.read_csv('/Users/chikwongyip/Code/pandas/data/en.openfoodfacts.org.products.tsv',on_bad_lines='skip',sep='\\t')\n"
     ]
    }
   ],
   "source": [
    "food = pd.read_csv('/Users/chikwongyip/Code/pandas/data/en.openfoodfacts.org.products.tsv',on_bad_lines='skip',sep='\\t')"
   ],
   "metadata": {
    "collapsed": false,
    "ExecuteTime": {
     "end_time": "2024-06-03T22:51:33.297702Z",
     "start_time": "2024-06-03T22:51:25.086120Z"
    }
   },
   "id": "bebb4fb19229f644"
  },
  {
   "cell_type": "code",
   "execution_count": 12,
   "outputs": [
    {
     "data": {
      "text/plain": "    code                                                url  \\\n0   3087  http://world-en.openfoodfacts.org/product/0000...   \n1   4530  http://world-en.openfoodfacts.org/product/0000...   \n2   4559  http://world-en.openfoodfacts.org/product/0000...   \n3  16087  http://world-en.openfoodfacts.org/product/0000...   \n4  16094  http://world-en.openfoodfacts.org/product/0000...   \n\n                      creator   created_t      created_datetime  \\\n0  openfoodfacts-contributors  1474103866  2016-09-17T09:17:46Z   \n1             usda-ndb-import  1489069957  2017-03-09T14:32:37Z   \n2             usda-ndb-import  1489069957  2017-03-09T14:32:37Z   \n3             usda-ndb-import  1489055731  2017-03-09T10:35:31Z   \n4             usda-ndb-import  1489055653  2017-03-09T10:34:13Z   \n\n  last_modified_t last_modified_datetime                    product_name  \\\n0      1474103893   2016-09-17T09:18:13Z              Farine de blé noir   \n1      1489069957   2017-03-09T14:32:37Z  Banana Chips Sweetened (Whole)   \n2      1489069957   2017-03-09T14:32:37Z                         Peanuts   \n3      1489055731   2017-03-09T10:35:31Z          Organic Salted Nut Mix   \n4      1489055653   2017-03-09T10:34:13Z                 Organic Polenta   \n\n  generic_name quantity  ... fruits-vegetables-nuts_100g  \\\n0          NaN      1kg  ...                         NaN   \n1          NaN      NaN  ...                         NaN   \n2          NaN      NaN  ...                         NaN   \n3          NaN      NaN  ...                         NaN   \n4          NaN      NaN  ...                         NaN   \n\n  fruits-vegetables-nuts-estimate_100g collagen-meat-protein-ratio_100g  \\\n0                                  NaN                              NaN   \n1                                  NaN                              NaN   \n2                                  NaN                              NaN   \n3                                  NaN                              NaN   \n4                                  NaN                              NaN   \n\n  cocoa_100g chlorophyl_100g carbon-footprint_100g nutrition-score-fr_100g  \\\n0        NaN             NaN                   NaN                     NaN   \n1        NaN             NaN                   NaN                    14.0   \n2        NaN             NaN                   NaN                     0.0   \n3        NaN             NaN                   NaN                    12.0   \n4        NaN             NaN                   NaN                     NaN   \n\n  nutrition-score-uk_100g glycemic-index_100g water-hardness_100g  \n0                     NaN                 NaN                 NaN  \n1                    14.0                 NaN                 NaN  \n2                     0.0                 NaN                 NaN  \n3                    12.0                 NaN                 NaN  \n4                     NaN                 NaN                 NaN  \n\n[5 rows x 163 columns]",
      "text/html": "<div>\n<style scoped>\n    .dataframe tbody tr th:only-of-type {\n        vertical-align: middle;\n    }\n\n    .dataframe tbody tr th {\n        vertical-align: top;\n    }\n\n    .dataframe thead th {\n        text-align: right;\n    }\n</style>\n<table border=\"1\" class=\"dataframe\">\n  <thead>\n    <tr style=\"text-align: right;\">\n      <th></th>\n      <th>code</th>\n      <th>url</th>\n      <th>creator</th>\n      <th>created_t</th>\n      <th>created_datetime</th>\n      <th>last_modified_t</th>\n      <th>last_modified_datetime</th>\n      <th>product_name</th>\n      <th>generic_name</th>\n      <th>quantity</th>\n      <th>...</th>\n      <th>fruits-vegetables-nuts_100g</th>\n      <th>fruits-vegetables-nuts-estimate_100g</th>\n      <th>collagen-meat-protein-ratio_100g</th>\n      <th>cocoa_100g</th>\n      <th>chlorophyl_100g</th>\n      <th>carbon-footprint_100g</th>\n      <th>nutrition-score-fr_100g</th>\n      <th>nutrition-score-uk_100g</th>\n      <th>glycemic-index_100g</th>\n      <th>water-hardness_100g</th>\n    </tr>\n  </thead>\n  <tbody>\n    <tr>\n      <th>0</th>\n      <td>3087</td>\n      <td>http://world-en.openfoodfacts.org/product/0000...</td>\n      <td>openfoodfacts-contributors</td>\n      <td>1474103866</td>\n      <td>2016-09-17T09:17:46Z</td>\n      <td>1474103893</td>\n      <td>2016-09-17T09:18:13Z</td>\n      <td>Farine de blé noir</td>\n      <td>NaN</td>\n      <td>1kg</td>\n      <td>...</td>\n      <td>NaN</td>\n      <td>NaN</td>\n      <td>NaN</td>\n      <td>NaN</td>\n      <td>NaN</td>\n      <td>NaN</td>\n      <td>NaN</td>\n      <td>NaN</td>\n      <td>NaN</td>\n      <td>NaN</td>\n    </tr>\n    <tr>\n      <th>1</th>\n      <td>4530</td>\n      <td>http://world-en.openfoodfacts.org/product/0000...</td>\n      <td>usda-ndb-import</td>\n      <td>1489069957</td>\n      <td>2017-03-09T14:32:37Z</td>\n      <td>1489069957</td>\n      <td>2017-03-09T14:32:37Z</td>\n      <td>Banana Chips Sweetened (Whole)</td>\n      <td>NaN</td>\n      <td>NaN</td>\n      <td>...</td>\n      <td>NaN</td>\n      <td>NaN</td>\n      <td>NaN</td>\n      <td>NaN</td>\n      <td>NaN</td>\n      <td>NaN</td>\n      <td>14.0</td>\n      <td>14.0</td>\n      <td>NaN</td>\n      <td>NaN</td>\n    </tr>\n    <tr>\n      <th>2</th>\n      <td>4559</td>\n      <td>http://world-en.openfoodfacts.org/product/0000...</td>\n      <td>usda-ndb-import</td>\n      <td>1489069957</td>\n      <td>2017-03-09T14:32:37Z</td>\n      <td>1489069957</td>\n      <td>2017-03-09T14:32:37Z</td>\n      <td>Peanuts</td>\n      <td>NaN</td>\n      <td>NaN</td>\n      <td>...</td>\n      <td>NaN</td>\n      <td>NaN</td>\n      <td>NaN</td>\n      <td>NaN</td>\n      <td>NaN</td>\n      <td>NaN</td>\n      <td>0.0</td>\n      <td>0.0</td>\n      <td>NaN</td>\n      <td>NaN</td>\n    </tr>\n    <tr>\n      <th>3</th>\n      <td>16087</td>\n      <td>http://world-en.openfoodfacts.org/product/0000...</td>\n      <td>usda-ndb-import</td>\n      <td>1489055731</td>\n      <td>2017-03-09T10:35:31Z</td>\n      <td>1489055731</td>\n      <td>2017-03-09T10:35:31Z</td>\n      <td>Organic Salted Nut Mix</td>\n      <td>NaN</td>\n      <td>NaN</td>\n      <td>...</td>\n      <td>NaN</td>\n      <td>NaN</td>\n      <td>NaN</td>\n      <td>NaN</td>\n      <td>NaN</td>\n      <td>NaN</td>\n      <td>12.0</td>\n      <td>12.0</td>\n      <td>NaN</td>\n      <td>NaN</td>\n    </tr>\n    <tr>\n      <th>4</th>\n      <td>16094</td>\n      <td>http://world-en.openfoodfacts.org/product/0000...</td>\n      <td>usda-ndb-import</td>\n      <td>1489055653</td>\n      <td>2017-03-09T10:34:13Z</td>\n      <td>1489055653</td>\n      <td>2017-03-09T10:34:13Z</td>\n      <td>Organic Polenta</td>\n      <td>NaN</td>\n      <td>NaN</td>\n      <td>...</td>\n      <td>NaN</td>\n      <td>NaN</td>\n      <td>NaN</td>\n      <td>NaN</td>\n      <td>NaN</td>\n      <td>NaN</td>\n      <td>NaN</td>\n      <td>NaN</td>\n      <td>NaN</td>\n      <td>NaN</td>\n    </tr>\n  </tbody>\n</table>\n<p>5 rows × 163 columns</p>\n</div>"
     },
     "execution_count": 12,
     "metadata": {},
     "output_type": "execute_result"
    }
   ],
   "source": [
    "food.head(5)"
   ],
   "metadata": {
    "collapsed": false,
    "ExecuteTime": {
     "end_time": "2024-06-03T22:51:43.756048Z",
     "start_time": "2024-06-03T22:51:43.710989Z"
    }
   },
   "id": "3944aa02773cc8ce"
  },
  {
   "cell_type": "code",
   "execution_count": 16,
   "outputs": [
    {
     "data": {
      "text/plain": "(356027, 163)"
     },
     "execution_count": 16,
     "metadata": {},
     "output_type": "execute_result"
    }
   ],
   "source": [
    "food.shape"
   ],
   "metadata": {
    "collapsed": false,
    "ExecuteTime": {
     "end_time": "2024-06-03T22:53:34.093402Z",
     "start_time": "2024-06-03T22:53:34.087609Z"
    }
   },
   "id": "73239049f00dd6aa"
  },
  {
   "cell_type": "code",
   "execution_count": 17,
   "outputs": [
    {
     "data": {
      "text/plain": "Index(['code', 'url', 'creator', 'created_t', 'created_datetime',\n       'last_modified_t', 'last_modified_datetime', 'product_name',\n       'generic_name', 'quantity',\n       ...\n       'fruits-vegetables-nuts_100g', 'fruits-vegetables-nuts-estimate_100g',\n       'collagen-meat-protein-ratio_100g', 'cocoa_100g', 'chlorophyl_100g',\n       'carbon-footprint_100g', 'nutrition-score-fr_100g',\n       'nutrition-score-uk_100g', 'glycemic-index_100g',\n       'water-hardness_100g'],\n      dtype='object', length=163)"
     },
     "execution_count": 17,
     "metadata": {},
     "output_type": "execute_result"
    }
   ],
   "source": [
    "food.columns"
   ],
   "metadata": {
    "collapsed": false,
    "ExecuteTime": {
     "end_time": "2024-06-03T22:53:54.601853Z",
     "start_time": "2024-06-03T22:53:54.595876Z"
    }
   },
   "id": "18377e95ac5237f4"
  },
  {
   "cell_type": "code",
   "execution_count": 18,
   "outputs": [
    {
     "name": "stdout",
     "output_type": "stream",
     "text": [
      "code\n",
      "url\n",
      "creator\n",
      "created_t\n",
      "created_datetime\n",
      "last_modified_t\n",
      "last_modified_datetime\n",
      "product_name\n",
      "generic_name\n",
      "quantity\n",
      "packaging\n",
      "packaging_tags\n",
      "brands\n",
      "brands_tags\n",
      "categories\n",
      "categories_tags\n",
      "categories_en\n",
      "origins\n",
      "origins_tags\n",
      "manufacturing_places\n",
      "manufacturing_places_tags\n",
      "labels\n",
      "labels_tags\n",
      "labels_en\n",
      "emb_codes\n",
      "emb_codes_tags\n",
      "first_packaging_code_geo\n",
      "cities\n",
      "cities_tags\n",
      "purchase_places\n",
      "stores\n",
      "countries\n",
      "countries_tags\n",
      "countries_en\n",
      "ingredients_text\n",
      "allergens\n",
      "allergens_en\n",
      "traces\n",
      "traces_tags\n",
      "traces_en\n",
      "serving_size\n",
      "no_nutriments\n",
      "additives_n\n",
      "additives\n",
      "additives_tags\n",
      "additives_en\n",
      "ingredients_from_palm_oil_n\n",
      "ingredients_from_palm_oil\n",
      "ingredients_from_palm_oil_tags\n",
      "ingredients_that_may_be_from_palm_oil_n\n",
      "ingredients_that_may_be_from_palm_oil\n",
      "ingredients_that_may_be_from_palm_oil_tags\n",
      "nutrition_grade_uk\n",
      "nutrition_grade_fr\n",
      "pnns_groups_1\n",
      "pnns_groups_2\n",
      "states\n",
      "states_tags\n",
      "states_en\n",
      "main_category\n",
      "main_category_en\n",
      "image_url\n",
      "image_small_url\n",
      "energy_100g\n",
      "energy-from-fat_100g\n",
      "fat_100g\n",
      "saturated-fat_100g\n",
      "-butyric-acid_100g\n",
      "-caproic-acid_100g\n",
      "-caprylic-acid_100g\n",
      "-capric-acid_100g\n",
      "-lauric-acid_100g\n",
      "-myristic-acid_100g\n",
      "-palmitic-acid_100g\n",
      "-stearic-acid_100g\n",
      "-arachidic-acid_100g\n",
      "-behenic-acid_100g\n",
      "-lignoceric-acid_100g\n",
      "-cerotic-acid_100g\n",
      "-montanic-acid_100g\n",
      "-melissic-acid_100g\n",
      "monounsaturated-fat_100g\n",
      "polyunsaturated-fat_100g\n",
      "omega-3-fat_100g\n",
      "-alpha-linolenic-acid_100g\n",
      "-eicosapentaenoic-acid_100g\n",
      "-docosahexaenoic-acid_100g\n",
      "omega-6-fat_100g\n",
      "-linoleic-acid_100g\n",
      "-arachidonic-acid_100g\n",
      "-gamma-linolenic-acid_100g\n",
      "-dihomo-gamma-linolenic-acid_100g\n",
      "omega-9-fat_100g\n",
      "-oleic-acid_100g\n",
      "-elaidic-acid_100g\n",
      "-gondoic-acid_100g\n",
      "-mead-acid_100g\n",
      "-erucic-acid_100g\n",
      "-nervonic-acid_100g\n",
      "trans-fat_100g\n",
      "cholesterol_100g\n",
      "carbohydrates_100g\n",
      "sugars_100g\n",
      "-sucrose_100g\n",
      "-glucose_100g\n",
      "-fructose_100g\n",
      "-lactose_100g\n",
      "-maltose_100g\n",
      "-maltodextrins_100g\n",
      "starch_100g\n",
      "polyols_100g\n",
      "fiber_100g\n",
      "proteins_100g\n",
      "casein_100g\n",
      "serum-proteins_100g\n",
      "nucleotides_100g\n",
      "salt_100g\n",
      "sodium_100g\n",
      "alcohol_100g\n",
      "vitamin-a_100g\n",
      "beta-carotene_100g\n",
      "vitamin-d_100g\n",
      "vitamin-e_100g\n",
      "vitamin-k_100g\n",
      "vitamin-c_100g\n",
      "vitamin-b1_100g\n",
      "vitamin-b2_100g\n",
      "vitamin-pp_100g\n",
      "vitamin-b6_100g\n",
      "vitamin-b9_100g\n",
      "folates_100g\n",
      "vitamin-b12_100g\n",
      "biotin_100g\n",
      "pantothenic-acid_100g\n",
      "silica_100g\n",
      "bicarbonate_100g\n",
      "potassium_100g\n",
      "chloride_100g\n",
      "calcium_100g\n",
      "phosphorus_100g\n",
      "iron_100g\n",
      "magnesium_100g\n",
      "zinc_100g\n",
      "copper_100g\n",
      "manganese_100g\n",
      "fluoride_100g\n",
      "selenium_100g\n",
      "chromium_100g\n",
      "molybdenum_100g\n",
      "iodine_100g\n",
      "caffeine_100g\n",
      "taurine_100g\n",
      "ph_100g\n",
      "fruits-vegetables-nuts_100g\n",
      "fruits-vegetables-nuts-estimate_100g\n",
      "collagen-meat-protein-ratio_100g\n",
      "cocoa_100g\n",
      "chlorophyl_100g\n",
      "carbon-footprint_100g\n",
      "nutrition-score-fr_100g\n",
      "nutrition-score-uk_100g\n",
      "glycemic-index_100g\n",
      "water-hardness_100g\n"
     ]
    }
   ],
   "source": [
    "for i in food.columns:\n",
    "    print(i)"
   ],
   "metadata": {
    "collapsed": false,
    "ExecuteTime": {
     "end_time": "2024-06-03T22:54:13.045641Z",
     "start_time": "2024-06-03T22:54:13.039910Z"
    }
   },
   "id": "8136ef17836c3a52"
  },
  {
   "cell_type": "code",
   "execution_count": 19,
   "outputs": [
    {
     "data": {
      "text/plain": "'-glucose_100g'"
     },
     "execution_count": 19,
     "metadata": {},
     "output_type": "execute_result"
    }
   ],
   "source": [
    "food.columns[104]"
   ],
   "metadata": {
    "collapsed": false,
    "ExecuteTime": {
     "end_time": "2024-06-03T22:55:32.500874Z",
     "start_time": "2024-06-03T22:55:32.464050Z"
    }
   },
   "id": "bd612f6f79b04eea"
  },
  {
   "cell_type": "code",
   "execution_count": 23,
   "outputs": [
    {
     "data": {
      "text/plain": "dtype('float64')"
     },
     "execution_count": 23,
     "metadata": {},
     "output_type": "execute_result"
    }
   ],
   "source": [
    "food.dtypes[104]"
   ],
   "metadata": {
    "collapsed": false,
    "ExecuteTime": {
     "end_time": "2024-06-03T22:56:52.160504Z",
     "start_time": "2024-06-03T22:56:52.157005Z"
    }
   },
   "id": "41b5b7d2e2844601"
  },
  {
   "cell_type": "code",
   "execution_count": 24,
   "outputs": [
    {
     "data": {
      "text/plain": "RangeIndex(start=0, stop=356027, step=1)"
     },
     "execution_count": 24,
     "metadata": {},
     "output_type": "execute_result"
    }
   ],
   "source": [
    "food.index"
   ],
   "metadata": {
    "collapsed": false,
    "ExecuteTime": {
     "end_time": "2024-06-03T22:57:09.664961Z",
     "start_time": "2024-06-03T22:57:09.658899Z"
    }
   },
   "id": "73e8e30c2c6b4df6"
  },
  {
   "cell_type": "code",
   "execution_count": 29,
   "outputs": [
    {
     "data": {
      "text/plain": "'Milk Chocolate Peanut Butter Malt Balls'"
     },
     "execution_count": 29,
     "metadata": {},
     "output_type": "execute_result"
    }
   ],
   "source": [
    "food.loc[109].product_name"
   ],
   "metadata": {
    "collapsed": false,
    "ExecuteTime": {
     "end_time": "2024-06-03T23:01:48.040400Z",
     "start_time": "2024-06-03T23:01:48.037047Z"
    }
   },
   "id": "efe76fe14baeb6eb"
  },
  {
   "cell_type": "code",
   "execution_count": null,
   "outputs": [],
   "source": [],
   "metadata": {
    "collapsed": false
   },
   "id": "73cc9a0f419868b3"
  }
 ],
 "metadata": {
  "kernelspec": {
   "display_name": "Python 3",
   "language": "python",
   "name": "python3"
  },
  "language_info": {
   "codemirror_mode": {
    "name": "ipython",
    "version": 2
   },
   "file_extension": ".py",
   "mimetype": "text/x-python",
   "name": "python",
   "nbconvert_exporter": "python",
   "pygments_lexer": "ipython2",
   "version": "2.7.6"
  }
 },
 "nbformat": 4,
 "nbformat_minor": 5
}
